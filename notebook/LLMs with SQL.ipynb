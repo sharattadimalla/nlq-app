{
 "cells": [
  {
   "cell_type": "markdown",
   "id": "4fb381b9-67a6-47b9-b80a-d1262662a998",
   "metadata": {},
   "source": [
    "# Natural Language Queries (NLQ) with Language Model on data"
   ]
  },
  {
   "cell_type": "markdown",
   "id": "6ab9261e-699b-4377-95ab-457336155179",
   "metadata": {},
   "source": [
    "## Benefits - Answer questions based on natural language questions`"
   ]
  },
  {
   "cell_type": "markdown",
   "id": "399419a6-9e5c-4756-9bdc-28ba03b7988b",
   "metadata": {},
   "source": [
    "## How does it work?\n",
    "\n",
    "![Langchain on SQL](https://python.langchain.com/assets/images/sql_usecase-d432701261f05ab69b38576093718cf3.png)"
   ]
  },
  {
   "cell_type": "markdown",
   "id": "42d98022-880d-46f2-a845-009ec3bd48ff",
   "metadata": {},
   "source": [
    "## Import libraries"
   ]
  },
  {
   "cell_type": "code",
   "execution_count": 1,
   "id": "21ef0fe1-b3f5-474c-96f4-2d0d90735835",
   "metadata": {},
   "outputs": [],
   "source": [
    "from langchain.utilities import SQLDatabase\n",
    "from langchain.llms import OpenAI\n",
    "from langchain_experimental.sql import SQLDatabaseChain"
   ]
  },
  {
   "cell_type": "markdown",
   "id": "f1ba4c00-8fca-469f-ac54-78c1704daae3",
   "metadata": {},
   "source": [
    "## Setup sample database"
   ]
  },
  {
   "cell_type": "code",
   "execution_count": 2,
   "id": "56a7a71b-80af-494e-983f-6a1a3065c43d",
   "metadata": {},
   "outputs": [
    {
     "data": {
      "text/plain": [
       "<sqlite3.Connection at 0x10cd567a0>"
      ]
     },
     "execution_count": 2,
     "metadata": {},
     "output_type": "execute_result"
    }
   ],
   "source": [
    "import sqlite3\n",
    "\n",
    "DATABASE_NM = \"customer_complaints_db.sqlite\"\n",
    "conn = sqlite3.connect(DATABASE_NM) # create a database called customer_complaints_db\n",
    "conn"
   ]
  },
  {
   "cell_type": "markdown",
   "id": "eb23f5de-91fc-4737-ade8-8689c8446b4a",
   "metadata": {},
   "source": [
    "## Create table customer_complaints"
   ]
  },
  {
   "cell_type": "code",
   "execution_count": 4,
   "id": "13625bdd-389e-481e-b0f2-0c33a99d172e",
   "metadata": {},
   "outputs": [
    {
     "data": {
      "text/html": [
       "<div>\n",
       "<style scoped>\n",
       "    .dataframe tbody tr th:only-of-type {\n",
       "        vertical-align: middle;\n",
       "    }\n",
       "\n",
       "    .dataframe tbody tr th {\n",
       "        vertical-align: top;\n",
       "    }\n",
       "\n",
       "    .dataframe thead th {\n",
       "        text-align: right;\n",
       "    }\n",
       "</style>\n",
       "<table border=\"1\" class=\"dataframe\">\n",
       "  <thead>\n",
       "    <tr style=\"text-align: right;\">\n",
       "      <th></th>\n",
       "      <th>date_received</th>\n",
       "      <th>product</th>\n",
       "      <th>sub_product</th>\n",
       "      <th>issue</th>\n",
       "      <th>sub_issue</th>\n",
       "      <th>consumer_complaint_narrative</th>\n",
       "      <th>company_public_response</th>\n",
       "      <th>company</th>\n",
       "      <th>state</th>\n",
       "      <th>zip_code</th>\n",
       "      <th>tags</th>\n",
       "      <th>consumer_consent_provided</th>\n",
       "      <th>submitted_via</th>\n",
       "      <th>date_sent_to_company</th>\n",
       "      <th>company_response_to_consumer</th>\n",
       "      <th>timely_response</th>\n",
       "      <th>consumer_disputed</th>\n",
       "      <th>complaint_id</th>\n",
       "    </tr>\n",
       "  </thead>\n",
       "  <tbody>\n",
       "    <tr>\n",
       "      <th>0</th>\n",
       "      <td>2013-07-29</td>\n",
       "      <td>Credit card</td>\n",
       "      <td>NaN</td>\n",
       "      <td>Billing statement</td>\n",
       "      <td>NaN</td>\n",
       "      <td>NaN</td>\n",
       "      <td>NaN</td>\n",
       "      <td>Citibank</td>\n",
       "      <td>OH</td>\n",
       "      <td>45247</td>\n",
       "      <td>NaN</td>\n",
       "      <td>NaN</td>\n",
       "      <td>Referral</td>\n",
       "      <td>2013-07-30</td>\n",
       "      <td>Closed with explanation</td>\n",
       "      <td>True</td>\n",
       "      <td>True</td>\n",
       "      <td>469026</td>\n",
       "    </tr>\n",
       "    <tr>\n",
       "      <th>1</th>\n",
       "      <td>2013-07-29</td>\n",
       "      <td>Credit card</td>\n",
       "      <td>NaN</td>\n",
       "      <td>APR or interest rate</td>\n",
       "      <td>NaN</td>\n",
       "      <td>NaN</td>\n",
       "      <td>NaN</td>\n",
       "      <td>Synchrony Financial</td>\n",
       "      <td>WA</td>\n",
       "      <td>98548</td>\n",
       "      <td>NaN</td>\n",
       "      <td>NaN</td>\n",
       "      <td>Web</td>\n",
       "      <td>2013-07-29</td>\n",
       "      <td>Closed with monetary relief</td>\n",
       "      <td>True</td>\n",
       "      <td>False</td>\n",
       "      <td>469131</td>\n",
       "    </tr>\n",
       "    <tr>\n",
       "      <th>2</th>\n",
       "      <td>2013-07-29</td>\n",
       "      <td>Credit card</td>\n",
       "      <td>NaN</td>\n",
       "      <td>Delinquent account</td>\n",
       "      <td>NaN</td>\n",
       "      <td>NaN</td>\n",
       "      <td>NaN</td>\n",
       "      <td>Amex</td>\n",
       "      <td>TX</td>\n",
       "      <td>78232</td>\n",
       "      <td>NaN</td>\n",
       "      <td>NaN</td>\n",
       "      <td>Web</td>\n",
       "      <td>2013-07-29</td>\n",
       "      <td>Closed with monetary relief</td>\n",
       "      <td>True</td>\n",
       "      <td>False</td>\n",
       "      <td>479990</td>\n",
       "    </tr>\n",
       "    <tr>\n",
       "      <th>3</th>\n",
       "      <td>2013-07-29</td>\n",
       "      <td>Credit card</td>\n",
       "      <td>NaN</td>\n",
       "      <td>Billing disputes</td>\n",
       "      <td>NaN</td>\n",
       "      <td>NaN</td>\n",
       "      <td>NaN</td>\n",
       "      <td>Capital One</td>\n",
       "      <td>FL</td>\n",
       "      <td>32226</td>\n",
       "      <td>Servicemember</td>\n",
       "      <td>NaN</td>\n",
       "      <td>Web</td>\n",
       "      <td>2013-07-29</td>\n",
       "      <td>Closed with explanation</td>\n",
       "      <td>True</td>\n",
       "      <td>False</td>\n",
       "      <td>475777</td>\n",
       "    </tr>\n",
       "    <tr>\n",
       "      <th>4</th>\n",
       "      <td>2013-07-29</td>\n",
       "      <td>Credit card</td>\n",
       "      <td>NaN</td>\n",
       "      <td>Credit line increase/decrease</td>\n",
       "      <td>NaN</td>\n",
       "      <td>NaN</td>\n",
       "      <td>NaN</td>\n",
       "      <td>Citibank</td>\n",
       "      <td>WI</td>\n",
       "      <td>53066</td>\n",
       "      <td>Older American</td>\n",
       "      <td>NaN</td>\n",
       "      <td>Phone</td>\n",
       "      <td>2013-07-30</td>\n",
       "      <td>Closed with explanation</td>\n",
       "      <td>True</td>\n",
       "      <td>True</td>\n",
       "      <td>469473</td>\n",
       "    </tr>\n",
       "  </tbody>\n",
       "</table>\n",
       "</div>"
      ],
      "text/plain": [
       "  date_received      product  sub_product                          issue  \\\n",
       "0    2013-07-29  Credit card          NaN              Billing statement   \n",
       "1    2013-07-29  Credit card          NaN           APR or interest rate   \n",
       "2    2013-07-29  Credit card          NaN             Delinquent account   \n",
       "3    2013-07-29  Credit card          NaN               Billing disputes   \n",
       "4    2013-07-29  Credit card          NaN  Credit line increase/decrease   \n",
       "\n",
       "   sub_issue consumer_complaint_narrative company_public_response  \\\n",
       "0        NaN                          NaN                     NaN   \n",
       "1        NaN                          NaN                     NaN   \n",
       "2        NaN                          NaN                     NaN   \n",
       "3        NaN                          NaN                     NaN   \n",
       "4        NaN                          NaN                     NaN   \n",
       "\n",
       "               company state zip_code            tags  \\\n",
       "0             Citibank    OH    45247             NaN   \n",
       "1  Synchrony Financial    WA    98548             NaN   \n",
       "2                 Amex    TX    78232             NaN   \n",
       "3          Capital One    FL    32226   Servicemember   \n",
       "4             Citibank    WI    53066  Older American   \n",
       "\n",
       "  consumer_consent_provided submitted_via date_sent_to_company  \\\n",
       "0                       NaN      Referral           2013-07-30   \n",
       "1                       NaN           Web           2013-07-29   \n",
       "2                       NaN           Web           2013-07-29   \n",
       "3                       NaN           Web           2013-07-29   \n",
       "4                       NaN         Phone           2013-07-30   \n",
       "\n",
       "  company_response_to_consumer  timely_response consumer_disputed  \\\n",
       "0      Closed with explanation             True              True   \n",
       "1  Closed with monetary relief             True             False   \n",
       "2  Closed with monetary relief             True             False   \n",
       "3      Closed with explanation             True             False   \n",
       "4      Closed with explanation             True              True   \n",
       "\n",
       "   complaint_id  \n",
       "0        469026  \n",
       "1        469131  \n",
       "2        479990  \n",
       "3        475777  \n",
       "4        469473  "
      ]
     },
     "execution_count": 4,
     "metadata": {},
     "output_type": "execute_result"
    }
   ],
   "source": [
    "from sqlalchemy import create_engine\n",
    "import pandas as pd\n",
    "\n",
    "FILE_NAME = \"credit_card_complaints.csv\"\n",
    "FILE_PATH = \"/Users/sharattadimalla/github/nlq-app/public_data/\"\n",
    "pdf = pd.read_csv(FILE_PATH+FILE_NAME) # create pandas dataframe\n",
    "\n",
    "pdf.head(5)"
   ]
  },
  {
   "cell_type": "markdown",
   "id": "5eaec602-87f9-4db3-95ed-23f72c697576",
   "metadata": {},
   "source": [
    "## Get customer_complaints DDL from pandas df"
   ]
  },
  {
   "cell_type": "code",
   "execution_count": 5,
   "id": "970cc81d-0270-48c7-896a-e046357de627",
   "metadata": {},
   "outputs": [
    {
     "name": "stdout",
     "output_type": "stream",
     "text": [
      "CREATE TABLE \"customer_complaints\" (\n",
      "\"index\" INTEGER,\n",
      "  \"date_received\" TEXT,\n",
      "  \"product\" TEXT,\n",
      "  \"sub_product\" REAL,\n",
      "  \"issue\" TEXT,\n",
      "  \"sub_issue\" REAL,\n",
      "  \"consumer_complaint_narrative\" TEXT,\n",
      "  \"company_public_response\" TEXT,\n",
      "  \"company\" TEXT,\n",
      "  \"state\" TEXT,\n",
      "  \"zip_code\" TEXT,\n",
      "  \"tags\" TEXT,\n",
      "  \"consumer_consent_provided\" TEXT,\n",
      "  \"submitted_via\" TEXT,\n",
      "  \"date_sent_to_company\" TEXT,\n",
      "  \"company_response_to_consumer\" TEXT,\n",
      "  \"timely_response\" INTEGER,\n",
      "  \"consumer_disputed\" INTEGER,\n",
      "  \"complaint_id\" INTEGER\n",
      ")\n"
     ]
    }
   ],
   "source": [
    "ddl_sql = pd.io.sql.get_schema(pdf.reset_index(), 'customer_complaints')\n",
    "print(ddl_sql)"
   ]
  },
  {
   "cell_type": "code",
   "execution_count": 6,
   "id": "83b41f2a-2420-440f-9758-116cb03a4662",
   "metadata": {},
   "outputs": [],
   "source": [
    "ddl_sql =\"\"\"CREATE TABLE IF NOT EXISTS \"customer_complaints\" (\n",
    "  \"index\" INTEGER,\n",
    "  \"date_received\" TEXT,\n",
    "  \"product\" TEXT,\n",
    "  \"sub_product\" REAL,\n",
    "  \"issue\" TEXT,\n",
    "  \"sub_issue\" REAL,\n",
    "  \"consumer_complaint_narrative\" TEXT,\n",
    "  \"company_public_response\" TEXT,\n",
    "  \"company\" TEXT,\n",
    "  \"state\" TEXT,\n",
    "  \"zip_code\" TEXT,\n",
    "  \"tags\" TEXT,\n",
    "  \"consumer_consent_provided\" TEXT,\n",
    "  \"submitted_via\" TEXT,\n",
    "  \"date_sent_to_company\" TEXT,\n",
    "  \"company_response_to_consumer\" TEXT,\n",
    "  \"timely_response\" INTEGER,\n",
    "  \"consumer_disputed\" INTEGER,\n",
    "  \"complaint_id\" INTEGER\n",
    ")\"\"\""
   ]
  },
  {
   "cell_type": "code",
   "execution_count": 7,
   "id": "5d9e182a-7059-4220-950f-132191d3d853",
   "metadata": {},
   "outputs": [
    {
     "data": {
      "text/plain": [
       "87718"
      ]
     },
     "execution_count": 7,
     "metadata": {},
     "output_type": "execute_result"
    }
   ],
   "source": [
    "TABLE_NM = 'customer_complaints'\n",
    "\n",
    "cur = conn.cursor()\n",
    "\n",
    "cur.execute(ddl_sql)\n",
    "\n",
    "conn.commit()\n",
    "\n",
    "table_exists_sql = \"SELECT name FROM sqlite_master WHERE type='table' AND name='{customer_complaints}';\"\n",
    "\n",
    "conn.execute(table_exists_sql).fetchall()\n",
    "\n",
    "pdf.to_sql(TABLE_NM, conn, if_exists='append', index=False) # create table in db\n"
   ]
  },
  {
   "cell_type": "markdown",
   "id": "8ffd757a-6cdc-469b-8e52-74750bf166aa",
   "metadata": {},
   "source": [
    "## Verify from table"
   ]
  },
  {
   "cell_type": "code",
   "execution_count": 8,
   "id": "04695f1b-e6ec-4e97-a2b5-f3c4a73083ca",
   "metadata": {},
   "outputs": [
    {
     "data": {
      "text/plain": [
       "[(87718,)]"
      ]
     },
     "execution_count": 8,
     "metadata": {},
     "output_type": "execute_result"
    }
   ],
   "source": [
    "customer_complaints_count_sql = \"select count(*) from customer_complaints;\"\n",
    "conn.execute(customer_complaints_count_sql).fetchall()"
   ]
  },
  {
   "cell_type": "markdown",
   "id": "4536d46f-3c33-40f0-af28-142eeaabc831",
   "metadata": {},
   "source": [
    "## Stitch LangChain"
   ]
  },
  {
   "cell_type": "code",
   "execution_count": 9,
   "id": "554a976e-c2cf-4f6f-a369-034d56b5292a",
   "metadata": {},
   "outputs": [
    {
     "data": {
      "text/plain": [
       "True"
      ]
     },
     "execution_count": 9,
     "metadata": {},
     "output_type": "execute_result"
    }
   ],
   "source": [
    "import dotenv\n",
    "dotenv.load_dotenv()"
   ]
  },
  {
   "cell_type": "code",
   "execution_count": 10,
   "id": "58184195-fd74-47dd-9752-bce3d2d1fc5e",
   "metadata": {},
   "outputs": [],
   "source": [
    "db = SQLDatabase.from_uri(\"sqlite:///customer_complaints_db.sqlite\", \n",
    "                          include_tables=[\n",
    "                            \"customer_complaints\"\n",
    "                            ],\n",
    "                          sample_rows_in_table_info=2\n",
    "                         )\n",
    "llm = OpenAI(temperature=0, verbose=True)\n",
    "db_chain = SQLDatabaseChain.from_llm(llm, db, verbose=True)"
   ]
  },
  {
   "cell_type": "markdown",
   "id": "3c8ff8c0-f9d2-4271-8d9a-25dc96c72177",
   "metadata": {},
   "source": [
    "## Ask Natural Language Queries to the db_chain"
   ]
  },
  {
   "cell_type": "code",
   "execution_count": 11,
   "id": "7ae20fcc-1552-4e16-a8a1-904d856d0715",
   "metadata": {},
   "outputs": [
    {
     "name": "stdout",
     "output_type": "stream",
     "text": [
      "\n",
      "\n",
      "\u001b[1m> Entering new SQLDatabaseChain chain...\u001b[0m\n",
      "How many customer complaints are there?\n",
      "SQLQuery:\u001b[32;1m\u001b[1;3mSELECT COUNT(*) FROM customer_complaints;\u001b[0m\n",
      "SQLResult: \u001b[33;1m\u001b[1;3m[(87718,)]\u001b[0m\n",
      "Answer:\u001b[32;1m\u001b[1;3mThere are 87718 customer complaints.\u001b[0m\n",
      "\u001b[1m> Finished chain.\u001b[0m\n"
     ]
    },
    {
     "data": {
      "text/plain": [
       "'There are 87718 customer complaints.'"
      ]
     },
     "execution_count": 11,
     "metadata": {},
     "output_type": "execute_result"
    }
   ],
   "source": [
    "question1 = \"How many customer complaints are there?\"\n",
    "db_chain.run(question1)"
   ]
  },
  {
   "cell_type": "code",
   "execution_count": 12,
   "id": "eb4af6b4-e4af-4fd6-9f1c-4cf325aad85f",
   "metadata": {},
   "outputs": [
    {
     "name": "stdout",
     "output_type": "stream",
     "text": [
      "\n",
      "\n",
      "\u001b[1m> Entering new SQLDatabaseChain chain...\u001b[0m\n",
      "What are the top 5 issues?\n",
      "SQLQuery:\u001b[32;1m\u001b[1;3mSELECT issue, COUNT(*) AS count FROM customer_complaints GROUP BY issue ORDER BY count DESC LIMIT 5;\u001b[0m\n",
      "SQLResult: \u001b[33;1m\u001b[1;3m[('Billing disputes', 14827), ('Other', 9144), ('Identity theft / Fraud / Embezzlement', 8330), ('Closing/Cancelling account', 6291), ('APR or interest rate', 5463)]\u001b[0m\n",
      "Answer:\u001b[32;1m\u001b[1;3mThe top 5 issues are Billing disputes, Other, Identity theft / Fraud / Embezzlement, Closing/Cancelling account, and APR or interest rate.\u001b[0m\n",
      "\u001b[1m> Finished chain.\u001b[0m\n"
     ]
    },
    {
     "data": {
      "text/plain": [
       "'The top 5 issues are Billing disputes, Other, Identity theft / Fraud / Embezzlement, Closing/Cancelling account, and APR or interest rate.'"
      ]
     },
     "execution_count": 12,
     "metadata": {},
     "output_type": "execute_result"
    }
   ],
   "source": [
    "question2 = \"What are the top 5 issues?\"\n",
    "db_chain.run(question2)"
   ]
  },
  {
   "cell_type": "code",
   "execution_count": 13,
   "id": "5cf40e00-ae27-4cb2-9720-6d7402937a3d",
   "metadata": {},
   "outputs": [
    {
     "name": "stdout",
     "output_type": "stream",
     "text": [
      "\n",
      "\n",
      "\u001b[1m> Entering new SQLDatabaseChain chain...\u001b[0m\n",
      "which companies had the top 5 complaints?\n",
      "SQLQuery:\u001b[32;1m\u001b[1;3mSELECT company, COUNT(*) AS num_complaints FROM customer_complaints GROUP BY company ORDER BY num_complaints DESC LIMIT 5;\u001b[0m\n",
      "SQLResult: \u001b[33;1m\u001b[1;3m[('Citibank', 16561), ('Capital One', 12740), ('JPMorgan Chase & Co.', 10203), ('Bank of America', 8995), ('Synchrony Financial', 8637)]\u001b[0m\n",
      "Answer:\u001b[32;1m\u001b[1;3mThe top 5 companies with the most complaints are Citibank, Capital One, JPMorgan Chase & Co., Bank of America, and Synchrony Financial.\u001b[0m\n",
      "\u001b[1m> Finished chain.\u001b[0m\n"
     ]
    },
    {
     "data": {
      "text/plain": [
       "'The top 5 companies with the most complaints are Citibank, Capital One, JPMorgan Chase & Co., Bank of America, and Synchrony Financial.'"
      ]
     },
     "execution_count": 13,
     "metadata": {},
     "output_type": "execute_result"
    }
   ],
   "source": [
    "question3 = \"which companies had the top 5 complaints?\"\n",
    "db_chain.run(question3)"
   ]
  },
  {
   "cell_type": "code",
   "execution_count": 14,
   "id": "6abfa2cf-13fd-43a3-af18-65d57851e778",
   "metadata": {},
   "outputs": [
    {
     "name": "stdout",
     "output_type": "stream",
     "text": [
      "\n",
      "\n",
      "\u001b[1m> Entering new SQLDatabaseChain chain...\u001b[0m\n",
      "How many issues were resolved in timely fashion?\n",
      "SQLQuery:\u001b[32;1m\u001b[1;3mSELECT COUNT(*) FROM customer_complaints WHERE timely_response = 1;\u001b[0m\n",
      "SQLResult: \u001b[33;1m\u001b[1;3m[(86750,)]\u001b[0m\n",
      "Answer:\u001b[32;1m\u001b[1;3m86750 issues were resolved in timely fashion.\u001b[0m\n",
      "\u001b[1m> Finished chain.\u001b[0m\n"
     ]
    },
    {
     "data": {
      "text/plain": [
       "'86750 issues were resolved in timely fashion.'"
      ]
     },
     "execution_count": 14,
     "metadata": {},
     "output_type": "execute_result"
    }
   ],
   "source": [
    "question4 = \"How many issues were resolved in timely fashion?\"\n",
    "db_chain.run(question4)"
   ]
  },
  {
   "cell_type": "code",
   "execution_count": 15,
   "id": "c7d93026-fded-4a4b-ac79-9fb75d423cf6",
   "metadata": {},
   "outputs": [
    {
     "name": "stdout",
     "output_type": "stream",
     "text": [
      "\n",
      "\n",
      "\u001b[1m> Entering new SQLDatabaseChain chain...\u001b[0m\n",
      "what are the top 5 channels by which complaints are submmited?\n",
      "SQLQuery:\u001b[32;1m\u001b[1;3mSELECT submitted_via, COUNT(*) AS count FROM customer_complaints GROUP BY submitted_via ORDER BY count DESC LIMIT 5;\u001b[0m\n",
      "SQLResult: \u001b[33;1m\u001b[1;3m[('Web', 60384), ('Referral', 14565), ('Phone', 6587), ('Postal mail', 5257), ('Fax', 881)]\u001b[0m\n",
      "Answer:\u001b[32;1m\u001b[1;3mThe top 5 channels by which complaints are submitted are Web, Referral, Phone, Postal mail, and Fax.\u001b[0m\n",
      "\u001b[1m> Finished chain.\u001b[0m\n"
     ]
    },
    {
     "data": {
      "text/plain": [
       "'The top 5 channels by which complaints are submitted are Web, Referral, Phone, Postal mail, and Fax.'"
      ]
     },
     "execution_count": 15,
     "metadata": {},
     "output_type": "execute_result"
    }
   ],
   "source": [
    "question5 = \"what are the top 5 channels by which complaints are submmited?\"\n",
    "db_chain.run(question5)"
   ]
  },
  {
   "cell_type": "code",
   "execution_count": null,
   "id": "b1a4852f-060d-490c-912c-8f42ae3e77eb",
   "metadata": {},
   "outputs": [],
   "source": []
  }
 ],
 "metadata": {
  "kernelspec": {
   "display_name": "Python 3 (ipykernel)",
   "language": "python",
   "name": "python3"
  },
  "language_info": {
   "codemirror_mode": {
    "name": "ipython",
    "version": 3
   },
   "file_extension": ".py",
   "mimetype": "text/x-python",
   "name": "python",
   "nbconvert_exporter": "python",
   "pygments_lexer": "ipython3",
   "version": "3.11.6"
  }
 },
 "nbformat": 4,
 "nbformat_minor": 5
}

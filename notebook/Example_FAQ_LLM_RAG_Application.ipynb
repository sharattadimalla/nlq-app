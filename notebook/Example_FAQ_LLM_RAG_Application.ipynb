{
 "cells": [
  {
   "cell_type": "markdown",
   "id": "b00a10cc-d19a-4be6-b933-5eceaa71b6ff",
   "metadata": {},
   "source": [
    "# Demonstrate LLM RAG Application for Private Documents\n",
    "\n",
    "## Use Cases\n",
    "1. Knowledge discovery using Q&A on private knowledge documents\n",
    "2. Customer Servicing Assistant for higher quality and faster \n",
    "\n",
    "## LLM Stack\n",
    "\n",
    "* Document Source - `AWS Bedrock service FAQ document. A public HTML web page`\n",
    "* LLM Framework - `LangChain`\n",
    "* LLM - OpenAI\n",
    "* Vector Store - Chroma"
   ]
  },
  {
   "cell_type": "markdown",
   "id": "f7345977-9b71-4a0d-9935-99b5622fc793",
   "metadata": {},
   "source": [
    "## Setup enviroment"
   ]
  },
  {
   "cell_type": "code",
   "execution_count": 1,
   "id": "e83d9d91-7d09-4d2c-86ba-4ceb0bec7776",
   "metadata": {
    "scrolled": true
   },
   "outputs": [
    {
     "data": {
      "text/plain": [
       "True"
      ]
     },
     "execution_count": 1,
     "metadata": {},
     "output_type": "execute_result"
    }
   ],
   "source": [
    "import dotenv\n",
    "dotenv.load_dotenv()"
   ]
  },
  {
   "cell_type": "markdown",
   "id": "b849d9c4-4034-4c42-800e-80db342c252f",
   "metadata": {},
   "source": [
    "## Import necessary modules"
   ]
  },
  {
   "cell_type": "code",
   "execution_count": 2,
   "id": "ca8f15df-a8a5-45e1-80a6-dfa0b4d8eb44",
   "metadata": {},
   "outputs": [],
   "source": [
    "from langchain.document_loaders import WebBaseLoader # load webpages\n",
    "from langchain.text_splitter import RecursiveCharacterTextSplitter # split documents into chunks\n",
    "from langchain.embeddings import OpenAIEmbeddings # Embedding model that converts text to vector\n",
    "from langchain.vectorstores import Chroma # vector db to store vector embeddings\n",
    "from langchain.schema.runnable import RunnablePassthrough\n",
    "from langchain.prompts import PromptTemplate  # instructions to guide LLM\n",
    "from langchain.chat_models import ChatOpenAI # LLM model\n",
    "from langchain.schema import StrOutputParser "
   ]
  },
  {
   "cell_type": "markdown",
   "id": "66af7811-f71c-41fb-add5-b03a42e4dcd2",
   "metadata": {},
   "source": [
    "## Step1: Load private documents (Web Pages, Markdown, Confluence, .txt, .pdf etc)"
   ]
  },
  {
   "cell_type": "code",
   "execution_count": 3,
   "id": "65b12d74-def0-4e5a-b8d7-16b567f88d93",
   "metadata": {},
   "outputs": [
    {
     "name": "stdout",
     "output_type": "stream",
     "text": [
      "CPU times: user 266 ms, sys: 29.4 ms, total: 295 ms\n",
      "Wall time: 1 s\n"
     ]
    }
   ],
   "source": [
    "%%time\n",
    "\n",
    "loader = WebBaseLoader(\n",
    "    web_paths=(\"https://aws.amazon.com/bedrock/faqs/\",),\n",
    ")\n",
    "bedrock_docs = loader.load()"
   ]
  },
  {
   "cell_type": "code",
   "execution_count": 4,
   "id": "4bfab3c0-ac86-4333-993c-ced6dd33291c",
   "metadata": {},
   "outputs": [
    {
     "data": {
      "text/plain": [
       "langchain.schema.document.Document"
      ]
     },
     "execution_count": 4,
     "metadata": {},
     "output_type": "execute_result"
    }
   ],
   "source": [
    "type(bedrock_docs[0])"
   ]
  },
  {
   "cell_type": "code",
   "execution_count": 5,
   "id": "587e60fe-b350-42c4-92df-6560a74ca61a",
   "metadata": {},
   "outputs": [
    {
     "data": {
      "text/plain": [
       "1"
      ]
     },
     "execution_count": 5,
     "metadata": {},
     "output_type": "execute_result"
    }
   ],
   "source": [
    "len(bedrock_docs)"
   ]
  },
  {
   "cell_type": "markdown",
   "id": "f920e8f9-e551-45b2-8e2a-4d231333e40e",
   "metadata": {},
   "source": [
    "## Inspect of metadata of document"
   ]
  },
  {
   "cell_type": "code",
   "execution_count": 6,
   "id": "1ff39cc7-8e8e-4fdc-90e0-b9bc2368a8ee",
   "metadata": {},
   "outputs": [
    {
     "data": {
      "text/plain": [
       "{'source': 'https://aws.amazon.com/bedrock/faqs/',\n",
       " 'title': 'Build Generative AI Applications with Foundation Models - Amazon Bedrock FAQs - AWS',\n",
       " 'description': 'Find answers to frequently asked questions about Amazon Bedrock.',\n",
       " 'language': 'en-US'}"
      ]
     },
     "execution_count": 6,
     "metadata": {},
     "output_type": "execute_result"
    }
   ],
   "source": [
    "bedrock_docs[0].metadata"
   ]
  },
  {
   "cell_type": "markdown",
   "id": "f3f86bf3-f8e9-478c-afa1-929a3e236385",
   "metadata": {},
   "source": [
    "## Total Bedrock FAQ is 29k characters long"
   ]
  },
  {
   "cell_type": "code",
   "execution_count": 7,
   "id": "1df15ee8-b1ac-4df8-b136-e05ad4bd1204",
   "metadata": {},
   "outputs": [
    {
     "data": {
      "text/plain": [
       "29535"
      ]
     },
     "execution_count": 7,
     "metadata": {},
     "output_type": "execute_result"
    }
   ],
   "source": [
    "len(bedrock_docs[0].page_content)"
   ]
  },
  {
   "cell_type": "markdown",
   "id": "b0063cae-0592-460d-8a3a-25abd830dd28",
   "metadata": {},
   "source": [
    "## sample data from Bedrock FAQ"
   ]
  },
  {
   "cell_type": "code",
   "execution_count": 8,
   "id": "26f47142-5613-4e44-be78-6e14be9b92b8",
   "metadata": {},
   "outputs": [
    {
     "name": "stdout",
     "output_type": "stream",
     "text": [
      "mal code changes.\n",
      "Easy model customization with your data: Privately customize FMs with your own data through a visual interface without writing any code. Simply select the training and validation data sets stored in Amazon Simple Storage Service (Amazon S3) and, if required, adjust the hyperparamet\n"
     ]
    }
   ],
   "source": [
    "print(bedrock_docs[0].page_content[4200:4500])"
   ]
  },
  {
   "cell_type": "markdown",
   "id": "1e27db1e-e67b-4324-a15d-18c7e4eb1dbd",
   "metadata": {},
   "source": [
    "## Step2: Split document into chunks\n",
    "### chunk_size=1000 characters with chunk_overlap=200 characters between chunks\n",
    "### Helps preserve the relevant context"
   ]
  },
  {
   "cell_type": "code",
   "execution_count": 9,
   "id": "dcefbcd7-bd66-4470-a436-3df110ea6ad7",
   "metadata": {},
   "outputs": [
    {
     "name": "stdout",
     "output_type": "stream",
     "text": [
      "CPU times: user 3.17 ms, sys: 43 µs, total: 3.21 ms\n",
      "Wall time: 3.22 ms\n"
     ]
    }
   ],
   "source": [
    "%%time\n",
    "text_splitter = RecursiveCharacterTextSplitter(\n",
    "    chunk_size=1000, chunk_overlap=200, add_start_index=True\n",
    ")\n",
    "all_splits = text_splitter.split_documents(bedrock_docs)"
   ]
  },
  {
   "cell_type": "markdown",
   "id": "e3d215c5-6182-4f0e-83d9-0bb310995add",
   "metadata": {},
   "source": [
    "## 29k character Bedrock FAQ document has been split into 42 chunks"
   ]
  },
  {
   "cell_type": "code",
   "execution_count": 10,
   "id": "fd65757e-def9-46eb-89d3-eee88ecca557",
   "metadata": {},
   "outputs": [
    {
     "data": {
      "text/plain": [
       "42"
      ]
     },
     "execution_count": 10,
     "metadata": {},
     "output_type": "execute_result"
    }
   ],
   "source": [
    "len(all_splits)"
   ]
  },
  {
   "cell_type": "markdown",
   "id": "120d8c4e-8238-46ad-99d9-3eddcfbd396d",
   "metadata": {},
   "source": [
    "## 20 chunk has 990 characters"
   ]
  },
  {
   "cell_type": "code",
   "execution_count": 11,
   "id": "fa97f2e1-5668-49d8-817d-7af8a3e4a724",
   "metadata": {},
   "outputs": [
    {
     "data": {
      "text/plain": [
       "990"
      ]
     },
     "execution_count": 11,
     "metadata": {},
     "output_type": "execute_result"
    }
   ],
   "source": [
    "len(all_splits[20].page_content)"
   ]
  },
  {
   "cell_type": "code",
   "execution_count": 12,
   "id": "174ef670-0fcc-44e6-b3d0-5ce96e11a52b",
   "metadata": {},
   "outputs": [
    {
     "data": {
      "text/plain": [
       "{'page_content': 'Will AWS and third-party model providers use customer inputs to or outputs from Amazon Bedrock to train Amazon Titan or any third-party models?\\n\\n\\n\\n\\n\\n\\nNo, AWS and the third-party model providers will not use any inputs to or outputs from Bedrock to train Amazon Titan or any third-party models.\\n\\n\\n\\n\\n\\n\\n\\n\\n\\n\\nSDK\\nOpen all\\n\\n\\n\\nWhat SDKs are supported for Amazon Bedrock?\\n\\n\\n\\n\\n\\n\\nAmazon Bedrock supports SDKs for runtime services. iOS and Android SDKs, as well as Java, JS, Python, CLI, .Net, Ruby, PHP, Go, and CPP support both text and speech input.\\n\\n\\n\\n\\n\\nWhat SDKs support streaming functionality?\\n\\n\\n\\n\\n\\n\\nStreaming is supported on all the SDKs.\\n\\n\\n\\n\\n\\n\\n\\n\\n\\n\\nBilling and Support\\nOpen all\\n\\n\\n\\nHow much does Amazon Bedrock cost?\\n\\n\\n\\n\\n\\n\\nPlease see the Amazon Bedrock Pricing Page for current pricing information.\\n\\n\\n\\n\\n\\nWhat support is provided for Amazon Bedrock?\\n\\n\\n\\n\\n\\n\\nDepending on your AWS support contract, Amazon Bedrock is supported under Developer Support, Business Support and Enterprise Support plans.',\n",
       " 'metadata': {'source': 'https://aws.amazon.com/bedrock/faqs/',\n",
       "  'title': 'Build Generative AI Applications with Foundation Models - Amazon Bedrock FAQs - AWS',\n",
       "  'description': 'Find answers to frequently asked questions about Amazon Bedrock.',\n",
       "  'language': 'en-US',\n",
       "  'start_index': 13577},\n",
       " 'type': 'Document'}"
      ]
     },
     "execution_count": 12,
     "metadata": {},
     "output_type": "execute_result"
    }
   ],
   "source": [
    "dict(all_splits[20])"
   ]
  },
  {
   "cell_type": "markdown",
   "id": "ab4e2852-12de-4994-b85b-0f063ae98ab8",
   "metadata": {},
   "source": [
    "## Step3: Convert each chunk using Embedding model into a vector embedding and store in vector database\n",
    "### Embeddings create a vector representation of a piece of text.\n",
    "### Why? User supplied query text can be converted to embedding and used to perform semantic search in vector space"
   ]
  },
  {
   "cell_type": "code",
   "execution_count": 13,
   "id": "51a0f7b4-1b8c-4167-b19f-c7634cf9fbb7",
   "metadata": {},
   "outputs": [
    {
     "name": "stdout",
     "output_type": "stream",
     "text": [
      "CPU times: user 1.01 s, sys: 213 ms, total: 1.23 s\n",
      "Wall time: 2.79 s\n"
     ]
    }
   ],
   "source": [
    "%%time\n",
    "vectorstore = Chroma.from_documents(documents=all_splits, embedding=OpenAIEmbeddings())"
   ]
  },
  {
   "cell_type": "code",
   "execution_count": 14,
   "id": "62fb443c-c991-4d86-bf80-8e1aa5fac881",
   "metadata": {},
   "outputs": [
    {
     "data": {
      "text/plain": [
       "langchain.vectorstores.chroma.Chroma"
      ]
     },
     "execution_count": 14,
     "metadata": {},
     "output_type": "execute_result"
    }
   ],
   "source": [
    "type(vectorstore)"
   ]
  },
  {
   "cell_type": "code",
   "execution_count": 15,
   "id": "87031563-8874-4676-86f9-55f820b5bcd8",
   "metadata": {},
   "outputs": [
    {
     "data": {
      "text/plain": [
       "['_Chroma__query_collection',\n",
       " '_LANGCHAIN_DEFAULT_COLLECTION_NAME',\n",
       " '__abstractmethods__',\n",
       " '__annotations__',\n",
       " '__class__',\n",
       " '__delattr__',\n",
       " '__dict__',\n",
       " '__dir__',\n",
       " '__doc__',\n",
       " '__eq__',\n",
       " '__format__',\n",
       " '__ge__',\n",
       " '__getattribute__',\n",
       " '__getstate__',\n",
       " '__gt__',\n",
       " '__hash__',\n",
       " '__init__',\n",
       " '__init_subclass__',\n",
       " '__le__',\n",
       " '__lt__',\n",
       " '__module__',\n",
       " '__ne__',\n",
       " '__new__',\n",
       " '__reduce__',\n",
       " '__reduce_ex__',\n",
       " '__repr__',\n",
       " '__setattr__',\n",
       " '__sizeof__',\n",
       " '__slots__',\n",
       " '__str__',\n",
       " '__subclasshook__',\n",
       " '__weakref__',\n",
       " '_abc_impl',\n",
       " '_asimilarity_search_with_relevance_scores',\n",
       " '_client',\n",
       " '_client_settings',\n",
       " '_collection',\n",
       " '_cosine_relevance_score_fn',\n",
       " '_embedding_function',\n",
       " '_euclidean_relevance_score_fn',\n",
       " '_get_retriever_tags',\n",
       " '_max_inner_product_relevance_score_fn',\n",
       " '_persist_directory',\n",
       " '_select_relevance_score_fn',\n",
       " '_similarity_search_with_relevance_scores',\n",
       " 'aadd_documents',\n",
       " 'aadd_texts',\n",
       " 'add_documents',\n",
       " 'add_texts',\n",
       " 'adelete',\n",
       " 'afrom_documents',\n",
       " 'afrom_texts',\n",
       " 'amax_marginal_relevance_search',\n",
       " 'amax_marginal_relevance_search_by_vector',\n",
       " 'as_retriever',\n",
       " 'asearch',\n",
       " 'asimilarity_search',\n",
       " 'asimilarity_search_by_vector',\n",
       " 'asimilarity_search_with_relevance_scores',\n",
       " 'asimilarity_search_with_score',\n",
       " 'delete',\n",
       " 'delete_collection',\n",
       " 'embeddings',\n",
       " 'from_documents',\n",
       " 'from_texts',\n",
       " 'get',\n",
       " 'max_marginal_relevance_search',\n",
       " 'max_marginal_relevance_search_by_vector',\n",
       " 'override_relevance_score_fn',\n",
       " 'persist',\n",
       " 'search',\n",
       " 'similarity_search',\n",
       " 'similarity_search_by_vector',\n",
       " 'similarity_search_by_vector_with_relevance_scores',\n",
       " 'similarity_search_with_relevance_scores',\n",
       " 'similarity_search_with_score',\n",
       " 'update_document',\n",
       " 'update_documents']"
      ]
     },
     "execution_count": 15,
     "metadata": {},
     "output_type": "execute_result"
    }
   ],
   "source": [
    "dir(vectorstore)"
   ]
  },
  {
   "cell_type": "code",
   "execution_count": 16,
   "id": "113f072b-26ad-44e6-9c65-066da014a613",
   "metadata": {},
   "outputs": [
    {
     "data": {
      "text/plain": [
       "'Run similarity search with Chroma with distance.\\n\\n        Args:\\n            query (str): Query text to search for.\\n            k (int): Number of results to return. Defaults to 4.\\n            filter (Optional[Dict[str, str]]): Filter by metadata. Defaults to None.\\n\\n        Returns:\\n            List[Tuple[Document, float]]: List of documents most similar to\\n            the query text and cosine distance in float for each.\\n            Lower score represents more similarity.\\n        '"
      ]
     },
     "execution_count": 16,
     "metadata": {},
     "output_type": "execute_result"
    }
   ],
   "source": [
    "vectorstore.similarity_search_with_score.__doc__"
   ]
  },
  {
   "cell_type": "code",
   "execution_count": 17,
   "id": "1bf92c20-483b-4d15-b571-7ae20e39fd33",
   "metadata": {},
   "outputs": [
    {
     "data": {
      "text/plain": [
       "'Return docs and relevance scores in the range [0, 1].\\n\\n        0 is dissimilar, 1 is most similar.\\n\\n        Args:\\n            query: input text\\n            k: Number of Documents to return. Defaults to 4.\\n            **kwargs: kwargs to be passed to similarity search. Should include:\\n                score_threshold: Optional, a floating point value between 0 to 1 to\\n                    filter the resulting set of retrieved docs\\n\\n        Returns:\\n            List of Tuples of (doc, similarity_score)\\n        '"
      ]
     },
     "execution_count": 17,
     "metadata": {},
     "output_type": "execute_result"
    }
   ],
   "source": [
    "vectorstore.similarity_search_with_relevance_scores.__doc__"
   ]
  },
  {
   "cell_type": "code",
   "execution_count": 18,
   "id": "b1e88f27-62ec-496b-8db9-a19f9c06ea36",
   "metadata": {},
   "outputs": [
    {
     "data": {
      "text/plain": [
       "(Document(page_content=\"General\\nOpen all\\n\\n\\n\\nWhat is Amazon Bedrock?\\n\\n\\n\\n\\n\\n\\nAmazon Bedrock is a fully managed service that offers a choice of high-performing foundation models (FMs) along with a broad set of capabilities that you need to build generative AI applications, simplifying development with security, privacy and responsible AI . With Amazon Bedrock’s comprehensive capabilities, you can easily experiment with a variety of top FMs, customize them privately with your data using techniques such as fine tuning and retrieval-augmented generation (RAG), and create managed agents that execute complex business tasks—from booking travel and processing insurance claims to creating ad campaigns and managing inventory—all without writing any code. Since Amazon Bedrock is serverless, you don't have to manage any infrastructure, and you can securely integrate and deploy generative AI capabilities into your applications using the AWS services you are already familiar with.\", metadata={'description': 'Find answers to frequently asked questions about Amazon Bedrock.', 'language': 'en-US', 'source': 'https://aws.amazon.com/bedrock/faqs/', 'start_index': 2276, 'title': 'Build Generative AI Applications with Foundation Models - Amazon Bedrock FAQs - AWS'}),\n",
       " 0.7436870596477878)"
      ]
     },
     "execution_count": 18,
     "metadata": {},
     "output_type": "execute_result"
    }
   ],
   "source": [
    "vectorstore.similarity_search_with_relevance_scores(\"what is bedrock?\")[2]"
   ]
  },
  {
   "cell_type": "markdown",
   "id": "ce1ee100-d9cf-415a-926a-a70dc55edd6e",
   "metadata": {},
   "source": [
    "## Step4: Retriever uses the user_input to perform semantic search on vector store to retrieve relevant chunks"
   ]
  },
  {
   "cell_type": "code",
   "execution_count": 19,
   "id": "fe02073f-8401-47d6-9c76-79260f10ffc4",
   "metadata": {},
   "outputs": [
    {
     "name": "stdout",
     "output_type": "stream",
     "text": [
      "CPU times: user 8.94 ms, sys: 2.29 ms, total: 11.2 ms\n",
      "Wall time: 138 ms\n"
     ]
    }
   ],
   "source": [
    "%%time\n",
    "retriever = vectorstore.as_retriever(search_type=\"similarity\", search_kwargs={\"k\": 5})\n",
    "retrieved_docs = retriever.get_relevant_documents(\n",
    "    \"What is bedrock?\"\n",
    ")"
   ]
  },
  {
   "cell_type": "code",
   "execution_count": 20,
   "id": "dc48aeec-d956-47eb-8272-ea7b407e8bde",
   "metadata": {},
   "outputs": [
    {
     "data": {
      "text/plain": [
       "5"
      ]
     },
     "execution_count": 20,
     "metadata": {},
     "output_type": "execute_result"
    }
   ],
   "source": [
    "len(retrieved_docs)"
   ]
  },
  {
   "cell_type": "code",
   "execution_count": 21,
   "id": "9b5755cd-283a-4376-940e-c913a7458fd0",
   "metadata": {},
   "outputs": [
    {
     "name": "stdout",
     "output_type": "stream",
     "text": [
      "Amazon Bedrock offers several capabilities to support security and privacy requirements. Bedrock is in scope for common compliance standards such as Service and Organization Control (SOC), International Organization for Standardization (ISO), Health Insurance Portability and Accountability Act (HIPAA) eligible, and customers can use Bedrock in compliance with the General Data Protection Regulation (GDPR). Amazon Bedrock is included in the scope of the SOC 1, 2, 3 reports, allowing customers to gain insights into our security controls. We demonstrate compliance through extensive third-party audits of our AWS controls. Amazon Bedrock is one of the AWS services under ISO Compliance for the ISO 9001, ISO 27001, ISO 27017, ISO 27018, ISO 27701, ISO 22301, and ISO 20000 standards. Amazon Bedrock is CSA Security Trust Assurance and Risk (STAR) Level 2 certified, which validates the use of best practices and the security posture of AWS cloud offerings. With Amazon Bedrock, your content is not\n"
     ]
    }
   ],
   "source": [
    "print(retrieved_docs[2].page_content)"
   ]
  },
  {
   "cell_type": "markdown",
   "id": "c0b720e1-9a57-4c7f-a862-22e8b31cc49d",
   "metadata": {},
   "source": [
    "## Step 5: Generate "
   ]
  },
  {
   "cell_type": "code",
   "execution_count": 22,
   "id": "98d38373-4565-462e-a95e-e3a149610aba",
   "metadata": {},
   "outputs": [
    {
     "name": "stdout",
     "output_type": "stream",
     "text": [
      "CPU times: user 3.02 ms, sys: 1.81 ms, total: 4.84 ms\n",
      "Wall time: 3.59 ms\n"
     ]
    }
   ],
   "source": [
    "%%time\n",
    "llm = ChatOpenAI(model_name=\"gpt-3.5-turbo\", temperature=0)\n",
    "\n",
    "template = \"\"\"Use the following pieces of context to answer the question at the end.\n",
    "If you don't know the answer, just say that you don't know, don't try to make up an answer.\n",
    "Use three sentences maximum and keep the answer as concise as possible.\n",
    "Always say \"thanks for asking!\" at the end of the answer.\n",
    "{context}\n",
    "Question: {question}\n",
    "Helpful Answer:\"\"\"\n",
    "rag_prompt_custom = PromptTemplate.from_template(template)\n",
    "\n",
    "rag_chain = (\n",
    "    {\"context\": retriever, \"question\": RunnablePassthrough()}\n",
    "    | rag_prompt_custom\n",
    "    | llm\n",
    "    | StrOutputParser()\n",
    ")"
   ]
  },
  {
   "cell_type": "markdown",
   "id": "1cfb989e-e0cf-4aa4-b48d-d060a9a0d792",
   "metadata": {},
   "source": [
    "## User Input to generate"
   ]
  },
  {
   "cell_type": "code",
   "execution_count": 23,
   "id": "16dffdef-766b-47df-9639-f914df479cd6",
   "metadata": {},
   "outputs": [
    {
     "name": "stdout",
     "output_type": "stream",
     "text": [
      "CPU times: user 45.9 ms, sys: 5.83 ms, total: 51.8 ms\n",
      "Wall time: 3.14 s\n"
     ]
    },
    {
     "data": {
      "text/plain": [
       "'Amazon Bedrock is a fully managed service that offers a choice of high-performing foundation models (FMs) along with a broad set of capabilities to build generative AI applications. It simplifies development with security, privacy, and responsible AI, allowing users to experiment with different models, customize them privately, and create managed agents without writing code. Thanks for asking!'"
      ]
     },
     "execution_count": 23,
     "metadata": {},
     "output_type": "execute_result"
    }
   ],
   "source": [
    "%%time\n",
    "rag_chain.invoke(\"What is bedrock?\")"
   ]
  },
  {
   "cell_type": "code",
   "execution_count": 24,
   "id": "420b99ad-bd4b-409c-ae37-c45d8df49221",
   "metadata": {},
   "outputs": [
    {
     "name": "stdout",
     "output_type": "stream",
     "text": [
      "CPU times: user 45.5 ms, sys: 5.68 ms, total: 51.2 ms\n",
      "Wall time: 3.02 s\n"
     ]
    },
    {
     "data": {
      "text/plain": [
       "\"The foundation models available in Bedrock include Anthropic's Claude, AI21 Labs' Jurassic-2, Stability AI's Stable Diffusion, Cohere's Command and Embed, Meta's Llama 2, and the Amazon Titan language and embeddings models. Thanks for asking!\""
      ]
     },
     "execution_count": 24,
     "metadata": {},
     "output_type": "execute_result"
    }
   ],
   "source": [
    "%%time\n",
    "rag_chain.invoke(\"what foundation models are available in Bedrock?\")"
   ]
  },
  {
   "cell_type": "code",
   "execution_count": 25,
   "id": "ae3fb79f-76af-4f34-bd71-258c098fc88a",
   "metadata": {},
   "outputs": [
    {
     "name": "stdout",
     "output_type": "stream",
     "text": [
      "CPU times: user 43.7 ms, sys: 5.14 ms, total: 48.8 ms\n",
      "Wall time: 2.33 s\n"
     ]
    },
    {
     "data": {
      "text/plain": [
       "'A foundation model is a high-performing AI model that serves as the basis for building generative AI applications. It can be customized with your own data and offers a range of options from different providers. Thanks for asking!'"
      ]
     },
     "execution_count": 25,
     "metadata": {},
     "output_type": "execute_result"
    }
   ],
   "source": [
    "%%time\n",
    "rag_chain.invoke(\"what is a foundation model?\")"
   ]
  },
  {
   "cell_type": "code",
   "execution_count": 26,
   "id": "d0af5c5e-c0ef-448b-b41c-85e2531ce5f3",
   "metadata": {},
   "outputs": [
    {
     "name": "stdout",
     "output_type": "stream",
     "text": [
      "CPU times: user 47.3 ms, sys: 7.07 ms, total: 54.4 ms\n",
      "Wall time: 3.07 s\n"
     ]
    },
    {
     "data": {
      "text/plain": [
       "'To customize a foundation model with your own data on Amazon Bedrock, you can use a visual interface without writing any code. Simply select your training and validation datasets stored in Amazon S3, and if needed, adjust the hyperparameters for optimal model performance. Thanks for asking!'"
      ]
     },
     "execution_count": 26,
     "metadata": {},
     "output_type": "execute_result"
    }
   ],
   "source": [
    "%%time\n",
    "rag_chain.invoke(\"how can I customize a foundation model with my own data?\")"
   ]
  },
  {
   "cell_type": "code",
   "execution_count": 27,
   "id": "34f49f95-2810-44d6-812b-f857d4d2ba82",
   "metadata": {},
   "outputs": [
    {
     "name": "stdout",
     "output_type": "stream",
     "text": [
      "CPU times: user 47 ms, sys: 6.54 ms, total: 53.5 ms\n",
      "Wall time: 2.03 s\n"
     ]
    },
    {
     "data": {
      "text/plain": [
       "'A hyperparameter is a parameter that is set before the learning process begins and remains constant during training. It determines the behavior and performance of a machine learning model. Thanks for asking!'"
      ]
     },
     "execution_count": 27,
     "metadata": {},
     "output_type": "execute_result"
    }
   ],
   "source": [
    "%%time\n",
    "rag_chain.invoke(\"what is a hyperparameter?\")"
   ]
  },
  {
   "cell_type": "code",
   "execution_count": 28,
   "id": "f098457b-1d22-4bcb-87ba-cc4f55e1a8d4",
   "metadata": {},
   "outputs": [
    {
     "name": "stdout",
     "output_type": "stream",
     "text": [
      "CPU times: user 47.8 ms, sys: 5.7 ms, total: 53.5 ms\n",
      "Wall time: 1.74 s\n"
     ]
    },
    {
     "data": {
      "text/plain": [
       "'An example of a hyperparameter is the learning rate in a neural network. The learning rate determines how quickly the model adjusts its weights during training. Thanks for asking!'"
      ]
     },
     "execution_count": 28,
     "metadata": {},
     "output_type": "execute_result"
    }
   ],
   "source": [
    "%%time\n",
    "rag_chain.invoke(\"give me example of hyperparameter\")"
   ]
  },
  {
   "cell_type": "code",
   "execution_count": 29,
   "id": "39f6355c-e2e8-4003-b023-aa6b763ab279",
   "metadata": {},
   "outputs": [
    {
     "name": "stdout",
     "output_type": "stream",
     "text": [
      "CPU times: user 45.3 ms, sys: 6.36 ms, total: 51.6 ms\n",
      "Wall time: 1.12 s\n"
     ]
    },
    {
     "data": {
      "text/plain": [
       "'RAG stands for Retrieval Augmented Generation. Thanks for asking!'"
      ]
     },
     "execution_count": 29,
     "metadata": {},
     "output_type": "execute_result"
    }
   ],
   "source": [
    "%%time\n",
    "rag_chain.invoke(\"What is a RAG?\")"
   ]
  },
  {
   "cell_type": "code",
   "execution_count": 30,
   "id": "d60c79c9-ff94-4862-9319-2e3aa625a285",
   "metadata": {},
   "outputs": [
    {
     "name": "stdout",
     "output_type": "stream",
     "text": [
      "CPU times: user 45 ms, sys: 6.23 ms, total: 51.2 ms\n",
      "Wall time: 2.97 s\n"
     ]
    },
    {
     "data": {
      "text/plain": [
       "'Yes, Amazon Bedrock allows users to set up human review workflows to evaluate models. Users can customize the instructions and buttons on the evaluation UI for their team and provide detailed instructions with examples. This method is useful for evaluating subjective criteria that require human judgment or subject matter expertise. Thanks for asking!'"
      ]
     },
     "execution_count": 30,
     "metadata": {},
     "output_type": "execute_result"
    }
   ],
   "source": [
    "%%time\n",
    "rag_chain.invoke(\"Can you expand on it?\")"
   ]
  },
  {
   "cell_type": "code",
   "execution_count": 31,
   "id": "e6445870-641f-4612-a0d4-8ce73e623e36",
   "metadata": {},
   "outputs": [
    {
     "name": "stdout",
     "output_type": "stream",
     "text": [
      "CPU times: user 45.2 ms, sys: 5.95 ms, total: 51.1 ms\n",
      "Wall time: 3.83 s\n"
     ]
    },
    {
     "data": {
      "text/plain": [
       "\"To build a RAG (Retrieval Augmented Generation) application, you can use Amazon Bedrock's fully managed agents that can invoke APIs dynamically to execute tasks. These agents extend the reasoning capabilities of FMs (Foundation Models) to break down tasks, create an orchestration plan, and execute it. Additionally, you can use Knowledge Bases for Amazon Bedrock to securely connect FMs to your data sources for retrieval augmentation, making the FM more knowledgeable about your specific domain and organization. Thanks for asking!\""
      ]
     },
     "execution_count": 31,
     "metadata": {},
     "output_type": "execute_result"
    }
   ],
   "source": [
    "%%time\n",
    "rag_chain.invoke(\"How do you build a RAG application?\")"
   ]
  },
  {
   "cell_type": "code",
   "execution_count": 32,
   "id": "53f74403-cfce-407a-9036-973b6622e0e4",
   "metadata": {},
   "outputs": [
    {
     "name": "stdout",
     "output_type": "stream",
     "text": [
      "CPU times: user 44.8 ms, sys: 6.09 ms, total: 50.9 ms\n",
      "Wall time: 3.07 s\n"
     ]
    },
    {
     "data": {
      "text/plain": [
       "'Knowledge Bases for Amazon Bedrock are a feature that allows users to upload and ingest various data formats such as .pdf, .txt, .md, .html, .doc, .docx, .csv, .xls, and .xlsx files into a vector database. The documents are chunked before being converted into embeddings. Thanks for asking!'"
      ]
     },
     "execution_count": 32,
     "metadata": {},
     "output_type": "execute_result"
    }
   ],
   "source": [
    "%%time\n",
    "rag_chain.invoke(\"what are knowledge bases for amazon bedrock?\")"
   ]
  },
  {
   "cell_type": "code",
   "execution_count": 33,
   "id": "e2155326-626f-4505-8c11-14237b7deac0",
   "metadata": {},
   "outputs": [
    {
     "name": "stdout",
     "output_type": "stream",
     "text": [
      "CPU times: user 46.3 ms, sys: 6.16 ms, total: 52.5 ms\n",
      "Wall time: 1.67 s\n"
     ]
    },
    {
     "data": {
      "text/plain": [
       "'Embeddings are vector representations of documents that capture their semantic meaning. Thanks for asking!'"
      ]
     },
     "execution_count": 33,
     "metadata": {},
     "output_type": "execute_result"
    }
   ],
   "source": [
    "%%time\n",
    "rag_chain.invoke(\"What are embeddings?\")"
   ]
  },
  {
   "cell_type": "code",
   "execution_count": 35,
   "id": "bd6815c9-bba3-457b-bef2-d38857a74d1d",
   "metadata": {},
   "outputs": [
    {
     "name": "stdout",
     "output_type": "stream",
     "text": [
      "CPU times: user 48.5 ms, sys: 6.47 ms, total: 55 ms\n",
      "Wall time: 3.43 s\n"
     ]
    },
    {
     "data": {
      "text/plain": [
       "'To build a RAG (Retrieval Augmented Generation) in Amazon Bedrock, you can securely connect Foundation Models (FMs) to your data sources using Knowledge Bases. Supported data formats include .pdf, .txt, .md, .html, .doc and .docx, .csv, .xls, and .xlsx files. The documents are chunked and converted into embeddings for ingestion into your vector database. Thanks for asking!'"
      ]
     },
     "execution_count": 35,
     "metadata": {},
     "output_type": "execute_result"
    }
   ],
   "source": [
    "%%time\n",
    "rag_chain.invoke(\"describe the process to build a RAG\")"
   ]
  },
  {
   "cell_type": "code",
   "execution_count": null,
   "id": "1d880eda-9dc2-4361-969d-2e884b55f4ce",
   "metadata": {},
   "outputs": [],
   "source": []
  }
 ],
 "metadata": {
  "kernelspec": {
   "display_name": "Python 3 (ipykernel)",
   "language": "python",
   "name": "python3"
  },
  "language_info": {
   "codemirror_mode": {
    "name": "ipython",
    "version": 3
   },
   "file_extension": ".py",
   "mimetype": "text/x-python",
   "name": "python",
   "nbconvert_exporter": "python",
   "pygments_lexer": "ipython3",
   "version": "3.11.6"
  }
 },
 "nbformat": 4,
 "nbformat_minor": 5
}

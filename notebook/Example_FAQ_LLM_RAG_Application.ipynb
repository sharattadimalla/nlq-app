{
 "cells": [
  {
   "cell_type": "markdown",
   "id": "b00a10cc-d19a-4be6-b933-5eceaa71b6ff",
   "metadata": {},
   "source": [
    "# Demonstrate LLM RAG Application for Private Documents\n",
    "\n",
    "## Use Cases\n",
    "1. Knowledge discovery using Q&A on private knowledge documents\n",
    "2. Customer Servicing Assistant for higher quality and faster \n",
    "\n",
    "## LLM Stack\n",
    "\n",
    "* Document Source - `AWS Bedrock service FAQ document. A public HTML web page`\n",
    "* LLM Framework - `LangChain`\n",
    "* LLM - OpenAI\n",
    "* Vector Store - Chroma"
   ]
  },
  {
   "cell_type": "markdown",
   "id": "f7345977-9b71-4a0d-9935-99b5622fc793",
   "metadata": {},
   "source": [
    "## Setup enviroment"
   ]
  },
  {
   "cell_type": "code",
   "execution_count": 1,
   "id": "e83d9d91-7d09-4d2c-86ba-4ceb0bec7776",
   "metadata": {
    "scrolled": true
   },
   "outputs": [
    {
     "data": {
      "text/plain": [
       "True"
      ]
     },
     "execution_count": 1,
     "metadata": {},
     "output_type": "execute_result"
    }
   ],
   "source": [
    "import dotenv\n",
    "dotenv.load_dotenv()"
   ]
  },
  {
   "cell_type": "markdown",
   "id": "b849d9c4-4034-4c42-800e-80db342c252f",
   "metadata": {},
   "source": [
    "## Import necessary modules"
   ]
  },
  {
   "cell_type": "code",
   "execution_count": 2,
   "id": "ca8f15df-a8a5-45e1-80a6-dfa0b4d8eb44",
   "metadata": {},
   "outputs": [],
   "source": [
    "from langchain.document_loaders import WebBaseLoader # load webpages\n",
    "from langchain.text_splitter import RecursiveCharacterTextSplitter # split documents into chunks\n",
    "from langchain.embeddings import OpenAIEmbeddings # Embedding model that converts text to vector\n",
    "from langchain.vectorstores import Chroma # vector db to store vector embeddings\n",
    "from langchain.schema.runnable import RunnablePassthrough\n",
    "from langchain.prompts import PromptTemplate  # instructions to guide LLM\n",
    "from langchain.chat_models import ChatOpenAI # LLM model\n",
    "from langchain.schema import StrOutputParser "
   ]
  },
  {
   "cell_type": "markdown",
   "id": "66af7811-f71c-41fb-add5-b03a42e4dcd2",
   "metadata": {},
   "source": [
    "## Step1: Load private documents (Web Pages, Markdown, Confluence, .txt, .pdf etc)"
   ]
  },
  {
   "cell_type": "code",
   "execution_count": 3,
   "id": "65b12d74-def0-4e5a-b8d7-16b567f88d93",
   "metadata": {},
   "outputs": [
    {
     "name": "stdout",
     "output_type": "stream",
     "text": [
      "CPU times: user 252 ms, sys: 23.5 ms, total: 275 ms\n",
      "Wall time: 560 ms\n"
     ]
    }
   ],
   "source": [
    "%%time\n",
    "\n",
    "loader = WebBaseLoader(\n",
    "    web_paths=(\"https://aws.amazon.com/bedrock/faqs/\",),\n",
    ")\n",
    "bedrock_docs = loader.load()"
   ]
  },
  {
   "cell_type": "code",
   "execution_count": 4,
   "id": "4bfab3c0-ac86-4333-993c-ced6dd33291c",
   "metadata": {},
   "outputs": [
    {
     "data": {
      "text/plain": [
       "langchain.schema.document.Document"
      ]
     },
     "execution_count": 4,
     "metadata": {},
     "output_type": "execute_result"
    }
   ],
   "source": [
    "type(bedrock_docs[0])"
   ]
  },
  {
   "cell_type": "code",
   "execution_count": 5,
   "id": "587e60fe-b350-42c4-92df-6560a74ca61a",
   "metadata": {},
   "outputs": [
    {
     "data": {
      "text/plain": [
       "1"
      ]
     },
     "execution_count": 5,
     "metadata": {},
     "output_type": "execute_result"
    }
   ],
   "source": [
    "len(bedrock_docs)"
   ]
  },
  {
   "cell_type": "markdown",
   "id": "f920e8f9-e551-45b2-8e2a-4d231333e40e",
   "metadata": {},
   "source": [
    "## Inspect of metadata of document"
   ]
  },
  {
   "cell_type": "code",
   "execution_count": 6,
   "id": "1ff39cc7-8e8e-4fdc-90e0-b9bc2368a8ee",
   "metadata": {},
   "outputs": [
    {
     "data": {
      "text/plain": [
       "{'source': 'https://aws.amazon.com/bedrock/faqs/',\n",
       " 'title': 'Build Generative AI Applications with Foundation Models - Amazon Bedrock FAQs - AWS',\n",
       " 'description': 'Find answers to frequently asked questions about Amazon Bedrock.',\n",
       " 'language': 'en-US'}"
      ]
     },
     "execution_count": 6,
     "metadata": {},
     "output_type": "execute_result"
    }
   ],
   "source": [
    "bedrock_docs[0].metadata"
   ]
  },
  {
   "cell_type": "markdown",
   "id": "1dcfd98b-bb39-408b-91e0-b988b68290cf",
   "metadata": {},
   "source": [
    "## Inspect sample content of document"
   ]
  },
  {
   "cell_type": "code",
   "execution_count": 7,
   "id": "3c0078e1-04be-496d-820d-b9a1303b1cac",
   "metadata": {},
   "outputs": [
    {
     "data": {
      "text/plain": [
       "\"\\n\\n\\n\\n\\n\\n\\n\\n\\n\\n\\nBuild Generative AI Applications with Foundation Models - Amazon Bedrock FAQs - AWS\\n\\n\\n\\n\\n\\n\\n\\n\\n\\n\\n\\n\\n\\n\\n\\n\\n\\n\\n\\n\\n\\n\\n\\n\\n\\n\\n\\n\\n\\n\\n\\n\\n\\n\\n\\n\\n\\n\\n\\n\\n\\n\\n\\n\\n\\n\\n Skip to main content\\n\\n\\n\\n\\n\\nClick here to return to Amazon Web Services homepage\\n\\n\\n\\nContact Us\\n Support\\xa0 \\nEnglish\\xa0\\nMy Account\\xa0\\n\\n\\n\\n\\n Sign In\\n\\n\\n  Create an AWS Account \\n\\n\\n\\n\\n\\n\\n\\n\\n\\nre:Invent\\nProducts\\nSolutions\\nPricing\\nDocumentation\\nLearn\\nPartner Network\\nAWS Marketplace\\nCustomer Enablement\\nEvents\\nExplore More \\n\\n\\n\\n\\n\\n\\n\\n\\n\\n\\n\\n\\n\\n\\n\\n\\n\\n Close \\n\\n\\n\\nعربي\\nBahasa Indonesia\\nDeutsch\\nEnglish\\nEspañol\\nFrançais\\nItaliano\\nPortuguês\\n\\n\\n\\n\\nTiếng Việt\\nTürkçe\\nΡусский\\nไทย\\n日本語\\n한국어\\n中文 (简体)\\n中文 (繁體)\\n\\n\\n\\n\\n\\n Close \\n\\nMy Profile\\nSign out of AWS Builder ID\\nAWS Management Console\\nAccount Settings\\nBilling & Cost Management\\nSecurity Credentials\\nAWS Personal Health Dashboard\\n\\n\\n\\n Close \\n\\nSupport Center\\nExpert Help\\nKnowledge Center\\nAWS Support Overview\\nAWS re:Post\\n\\n\\n\\n\\n\\n\\n\\n\\n\\n\\n\\n\\nClick here to return to Amazon Web Services homepage\\n\\n\\n\\n\\n\\n\\n\\n  Get Started for Free \\n\\n\\n  Contact Us \\n\\n\\n\\n\\n\\n\\n\\n\\n\\n\\n\\n\\n re:Invent \\n Products \\n Solutions \\n Pricing \\n Introduction to AWS \\n Getting Started \\n Documentation \\n Training and Certification \\n Developer Center \\n Customer Success \\n Partner Network \\n AWS Marketplace \\n Support \\n AWS re:Post \\n Log into Console \\n Download the Mobile App \\n\\n\\n\\n\\n\\n\\n\\n Amazon Bedrock\\n\\n\\n Overview\\n Features\\xa0 \\n Pricing\\n Models\\xa0 \\n FAQs\\n Testimonials\\n Resources\\n\\n\\n\\n\\n\\n Close \\n Agents\\n Developer Experience\\n Guardrails\\n Knowledge Bases\\n Security and Privacy\\n\\n\\n Close \\n Claude\\n Command & Embed\\n Jurassic\\n Llama 2\\n Stable Diffusion \\n Titan\\n\\n\\n\\n\\n\\n\\n\\n\\n\\n\\n\\n\\n\\n\\n\\nGenerative AI›\\nAmazon Bedrock›\\nFAQs\\n\\n\\n\\n\\n\\nAmazon Bedrock FAQs\\n\\n\\n\\n\\n\\n\\n\\n\\n\\n\\n\\n\\n\\n\\n\\n\\nPage Topics\\nGeneral \\n            \\n              10 \\n            \\nAgents \\n            \\n              4 \\n            \\nSecurity \\n            \\n              4 \\n            \\nSDK \\n            \\n              2 \\n            \\nBilling and Support \\n            \\n              3 \\n            \\nCustomization \\n            \\n              6 \\n            \\nAmazon Titan \\n            \\n              2 \\n            \\nRetrieval augmented generation (RAG) \\n            \\n              5 \\n            \\nModel Evaluation \\n            \\n              5 \\n            \\nResponsible AI \\n            \\n              4 \\n            \\n\\n\\n\\n\\n\\n\\n\\n\\n             General \\n           \\n\\n\\n\\n\\n\\n\\n\\n\\n\\n\\n\\n\\n\\nGeneral\\nOpen all\\n\\n\\n\\nWhat is Amazon Bedrock?\\n\\n\\n\\n\\n\\n\\nAmazon Bedrock is a fully managed service that offers a choice of high-performing foundation models (FMs) along with a broad set of capabilities that you need to build generative AI applications, simplifying development with security, privacy and responsible AI . With Amazon Bedrock’s comprehensive capabilities, you can easily experiment with a variety of top FMs, customize them privately with your data using techniques such as fine tuning and retrieval-augmented generation (RAG), and create managed agents that execute complex business tasks—from booking travel and processing insurance claims to creating ad campaigns and managing inventory—all without writing any code. Since Amazon Bedrock is serverless, you don't have to manage any infrastructure, and you can securely integrate and deploy generative AI capabilities into your applications using the AWS services you are already familiar with.\\n\\n\\n\\n\\n\\nWhich FMs are available on Amazon Bedrock?\\xa0\\n\\n\\n\\n\\n\\n\\nAmazon Bedrock customers can choose from some of the most cutting-edge FMs available today. This includes Anthropic's Claude, AI21 Labs' Jurassic-2, Stability AI's Stable Diffusion, Cohere's Command and Embed, Meta's Llama 2, and the Amazon Titan language and embeddings models.\\n\\n\\n\\n\\n\\nWhy should I use Amazon Bedrock?\\n\\n\\n\\n\\n\\n\\nThere are five reasons to use Amazon Bedrock for building generative AI applications.\\n\\nChoice of leading foundation models:\\xa0Amazon Bedrock offers an easy-to-use developer experience to work with a broad range of high-performing FMs from Amazon and leading AI companies like AI21 Labs, Anthropic, Cohere, Meta, and Stability AI. You can quickly experiment with a variety of FMs in the playground, and use a single API for inference regardless of the models you choose, giving you the flexibility to use FMs from different providers and keep up to date with the latest model versions with minimal code changes.\\nEasy model customization with your data: Privately customize FMs with your own data through a visual interface without writing any code. Simply select the training and validation data sets stored in Amazon Simple Storage Service (Amazon S3) and, if required, adjust the hyperparameters to achieve the best possible model performance.\\nFully managed agents that can invoke APIs dynamically to execute tasks: Build agents that execute complex business tasks—from booking travel and processing insurance claims to creating ad campaigns, preparing tax filings, and managing your inventory—by dynamically calling your company systems and APIs. Amazon Bedrock's fully managed agents extend the reasoning capabilities of FMs to break down tasks, create an orchestration plan, and execute it.\\nNative support for RAG to extend the power of FMs with proprietary data:\\xa0With Knowledge Bases for Amazon Bedrock, you can securely connect FMs to your data sources for retrieval augmentation—from within the managed service—extending the FM’s already powerful capabilities and making it more knowledgeable about your specific domain and organization.\\nData security and compliance certifications: Amazon Bedrock offers several capabilities to support security and privacy requirements. Bedrock is in scope for common compliance standards such as Service and Organization Control (SOC), International Organization for Standardization (ISO), Health Insurance Portability and Accountability Act (HIPAA) eligible, and customers can use Bedrock in compliance with the General Data Protection Regulation (GDPR). Amazon Bedrock is CSA Security Trust Assurance and Risk (STAR) Level 2 certified, which validates the use of best practices and the security posture of AWS cloud offerings. With Amazon Bedrock, your content is not used to improve the base models and is not shared with any model providers. Your data in Amazon Bedrock is always encrypted in transit and at rest, and you can optionally encrypt the data using your own keys. You can use AWS PrivateLink with Amazon Bedrock to establish private connectivity between your FMs and your Amazon Virtual Private Cloud (Amazon VPC) without exposing your traffic to the Internet.\\n\\n\\n\\n\\n\\n\\nHow can I get started with Amazon Bedrock?\\n\\n\\n\\n\\n\\n\\nWith the serverless experience of Amazon Bedrock, you can quickly get started. Navigate to Amazon Bedrock in the AWS console and try out the FMs in the playground. You can also create an agent and test it in the console. Once you’ve identified your use case, you can easily integrate the FMs into your applications using AWS tools without having to manage any infrastructure.\\n\\n\\n\\n\\n\\nHow does Amazon Bedrock work with other services?\\n\\n\\n\\n\\n\\n\\nAmazon Bedrock leverages AWS Lambda for invoking actions, Amazon S3 for training and validation data, and Amazon CloudWatch for tracking metrics.\\n\\n\\n\\n\\n\\nWhat are the most common use cases for Amazon Bedrock?\\n\\n\\n\\n\\n\\n\\nYou can get started with use cases quickly\\n\\nCreate new pieces of original content, such as short stories, essays, social media posts, and web page copy.\\nSearch, find, and synthesize information to answer questions from a large corpus of data.\\nCreate realistic and artistic images of various subjects, environments, and scenes from language prompts.\\nHelp customers find what they’re looking for with more relevant and contextual product recommendations than word matching.\\nGet a summary of textual content such as articles, blog posts, books, and documents to get the gist without having to read the full content.\\n\\nExplore more generative AI use cases here.\\n\\n\\n\\n\\n\\nWhat is Amazon Bedrock Chat Playground?\\n\\n\\n\\n\\n\\n\\nAmazon Bedrock offers a playground that allows you to experiment with various FMs using a conversational chat interface. You can provide a prompt and use a web interface inside the AWS Management Console to supply a prompt and use the pretrained models to generate text or images, or alternatively use a fine-tuned model that has been adapted for your use case.\\n\\n\\n\\n\\n\\nIn which AWS Regions is Amazon Bedrock available?\\n\\n\\n\\n\\n\\n\\nFor a list of AWS Regions where Amazon Bedrock is available, see\\xa0Amazon Bedrock endpoints and quotas in the Amazon Bedrock Reference Guide.\\n\\n\\n\\n\\n\\nHow do I customize a model on Amazon Bedrock?\\n\\n\\n\\n\\n\\n\\nYou can easily fine-tune FMs on Amazon Bedrock. To get started, provide the training and validation dataset, configure hyperparameters (epochs, batch size, learning rate, warmup steps) and submit the job. Within a couple of hours, your fine-tuned model can be accessed with the same API (InvokeModel).\\n\\n\\n\\n\\n\\nCan I train a model and deploy it on Amazon Bedrock?\\n\\n\\n\\n\\n\\n\\nAmazon Bedrock is a managed service that you can use to access foundational models. You can fine-tune a model and use it with the Amazon Bedrock API.\\n\\n\\n\\n\\n\\n\\n\\n\\n\\n\\nAgents\\nOpen all\\n\\n\\n\\nWhat are Agents for Amazon Bedrock?\\n\\n\\n\\n\\n\\n\\nAgents for Amazon Bedrock are fully managed capabilities that make it easier for developers to create generative AI-based applications that can complete complex tasks for a wide range of use cases and deliver up-to-date answers based on proprietary knowledge sources. With just a few clicks, Agents for Amazon Bedrock automatically break down tasks and create an orchestration plan–without any manual coding. The agent securely connects to company data through an API, automatically converting data into a machine-readable format, and augmenting the request with relevant information to generate the most accurate response. Agents can then automatically call APIs to fulfill a user’s request. For example, a manufacturing company might want to develop a generative AI application that automates tracking inventory levels, sales data, supply chain information and can recommend optimal reorder points and quantities to maximize efficiency. As fully managed capabilities, Agents for Amazon Bedrock remove the undifferentiated lifting of managing system integration and infrastructure provisioning, allowing developers to use generative AI to its full extent throughout their organization.\\n\\n\\n\\n\\n\\nHow can I connect FMs to my company data sources?\\n\\n\\n\\n\\n\\n\\nYou can securely connect FMs to your company data sources using Agents for Amazon Bedrock. With a knowledge base, you can use agents to give FMs in Amazon Bedrock access to additional data that helps the model generate more relevant, context-specific, and accurate responses without continually retraining the FM. Based on user input, agents identify the appropriate knowledge base, retrieve the relevant information, and add the information to the input prompt, giving the model more context information to generate a completion.\\n\\n\\n\\n\\n\\nWhat are some use cases for Agents for Amazon Bedrock?\\n\\n\\n\\n\\n\\n\\nAgents for Amazon Bedrock can help you increase productivity, improve your customer service experience, or automate DevOps tasks.\\n\\n\\n\\n\\n\\nHow do Agents for Amazon Bedrock help improve developer productivity?\\n\\n\\n\\n\\n\\n\\nWith agents, developers have seamless support for monitoring, encryption, user permissions, and API invocation management without writing custom code. Agents for Amazon Bedrock automate the prompt engineering and orchestration of user-requested tasks. Developers can use the agent created prompt template as a baseline to further refine it for an enhanced user experience. They can update the user input, orchestration plan, and the FM response. With access to the prompt template developers have better control over the Agent orchestration.\\nWith fully managed agents, you don’t have to worry about provisioning or managing infrastructure and can take applications to production faster.\\n\\n\\n\\n\\n\\n\\n\\n\\n\\n\\nSecurity\\nOpen all\\n\\n\\n\\nIs the content processed by Amazon Bedrock moved outside the AWS Region where I am using Amazon Bedrock?\\n\\n\\n\\n\\n\\n\\nAny customer content processed by Amazon Bedrock is encrypted and stored at rest in the AWS Region where you are using Amazon Bedrock.\\n\\n\\n\\n\\n\\nAre user inputs and model outputs made available to third-party model providers?\\n\\n\\n\\n\\n\\n\\nNo. Users inputs and model outputs are not shared with any model providers.\\n\\n\\n\\n\\n\\nWhat security and compliance standards does Amazon Bedrock support?\\n\\n\\n\\n\\n\\n\\nAmazon Bedrock offers several capabilities to support security and privacy requirements. Bedrock is in scope for common compliance standards such as Service and Organization Control (SOC), International Organization for Standardization (ISO), Health Insurance Portability and Accountability Act (HIPAA) eligible, and customers can use Bedrock in compliance with the General Data Protection Regulation (GDPR). Amazon Bedrock is included in the scope of the SOC 1, 2, 3 reports, allowing customers to gain insights into our security controls. We demonstrate compliance through extensive third-party audits of our AWS controls. Amazon Bedrock is one of the AWS services under ISO Compliance for the ISO 9001, ISO 27001, ISO 27017, ISO 27018, ISO 27701, ISO 22301, and ISO 20000 standards. Amazon Bedrock is CSA Security Trust Assurance and Risk (STAR) Level 2 certified, which validates the use of best practices and the security posture of AWS cloud offerings. With Amazon Bedrock, your content is not used to improve the base models and is not shared with any model providers. You can use AWS PrivateLink to establish private connectivity from your Amazon Virtual Private Cloud (VPC) to Amazon Bedrock, without having to expose your data to internet traffic.\\n\\xa0\\n\\n\\n\\n\\n\\nWill AWS and third-party model providers use customer inputs to or outputs from Amazon Bedrock to train Amazon Titan or any third-party models?\\n\\n\\n\\n\\n\\n\\nNo, AWS and the third-party model providers will not use any inputs to or outputs from Bedrock to train Amazon Titan or any third-party models.\\n\\n\\n\\n\\n\\n\\n\\n\\n\\n\\nSDK\\nOpen all\\n\\n\\n\\nWhat SDKs are supported for Amazon Bedrock?\\n\\n\\n\\n\\n\\n\\nAmazon Bedrock supports SDKs for runtime services. iOS and Android SDKs, as well as Java, JS, Python, CLI, .Net, Ruby, PHP, Go, and CPP support both text and speech input.\\n\\n\\n\\n\\n\\nWhat SDKs support streaming functionality?\\n\\n\\n\\n\\n\\n\\nStreaming is supported on all the SDKs.\\n\\n\\n\\n\\n\\n\\n\\n\\n\\n\\nBilling and Support\\nOpen all\\n\\n\\n\\nHow much does Amazon Bedrock cost?\\n\\n\\n\\n\\n\\n\\nPlease see the Amazon Bedrock Pricing Page for current pricing information.\\n\\n\\n\\n\\n\\nWhat support is provided for Amazon Bedrock?\\n\\n\\n\\n\\n\\n\\nDepending on your AWS support contract, Amazon Bedrock is supported under Developer Support, Business Support and Enterprise Support plans.\\n\\n\\n\\n\\n\\nHow can I track the input and output tokens?\\n\\n\\n\\n\\n\\n\\nYou can use CloudWatch metrics to track the inputs and output token.\\n\\n\\n\\n\\n\\n\\n\\n\\n\\n\\nCustomization\\nOpen all\\n\\n\\n\\nHow can I securely use my data to customize FMs available through Amazon Bedrock?\\n\\n\\n\\n\\n\\n\\nWith Amazon Bedrock, you can privately customize FMs, retaining control over how your data is used and encrypted. Amazon Bedrock makes a separate copy of the base foundational model and trains this private copy of the model. Your data including prompts, information used to supplement a prompt, FM responses, and customized FMs remain in the Region where the API call is processed.\\n\\n\\n\\n\\n\\nHow does Amazon Bedrock ensure my data used in fine-tuning remains private and confidential?\\n\\n\\n\\n\\n\\n\\nWhen you’re fine tuning a model, your data is never exposed to the public internet, never leaves the AWS network, is securely transferred through your VPC, and is encrypted in transit and at rest. And, Bedrock enforces the same AWS access controls that you have with any of our other services.\\n\\n\\n\\n\\n\\nDoes Amazon Bedrock support Continued Pre-training?\\n\\n\\n\\n\\n\\n\\nWe launched Continued Pre-training for Titan Text Express and Titan models on Amazon Bedrock; this will enable you to continue the pre-training on a Titan base model using large amounts of unlabeled data. This type of training will adapt the model from a general domain corpus to a more specific domain corpus such as medical, law, finance, etc. while still preserving most of the capabilities of the Titan base model.\\xa0\\n\\n\\n\\n\\n\\nWhy should I use Continued Pre-training in Bedrock?\\n\\n\\n\\n\\n\\n\\nTypically, enterprises may want to build models for tasks in a specific domain. The base models may not be trained on the technical jargon used in that specific domain. Thus, fine-tuning the base model directly will require large amounts of labeled training records and a long training duration to get accurate results. To ease this burden, the customer can instead provide large amounts of unlabeled data for a Continued Pre-Training job. This job will adapt the Titan base model to the new domain. Then the customer may fine tune the newly pre-trained custom model to downstream tasks using significantly less labeled training records and with less training duration.\\xa0\\n\\n\\n\\n\\n\\nHow does the Continued Pre-training feature relate to other AWS services?\\n\\n\\n\\n\\n\\n\\nBedrock Continued Pre-training and Fine Tuning (FT) have very similar requirements. For this reason, we are choosing to create unified APIs that supports both CPT and FT. Unification of the APIs reduces the learning curve and will help customers use standard features such as CloudWatch Event Bridge to track long running jobs, S3 integration for fetching training data, Resource tags and Model encryption.\\xa0\\n\\n\\n\\n\\n\\nHow do I use Continued Pre-training?\\n\\n\\n\\n\\n\\n\\nContinued Pre-training helps you easily adapt the Titan models to your domain specific data while still preserving base functionality of the Titan models. To create a Continued Pre-training job, navigate to the Bedrock Console and click on ‘Custom Models’. You will navigate to the custom model page that has two tabs: Models and Training jobs. Both tabs provide a drop-down on the right called as “Customize Model”. Select “Continued Pre-training” from the Customize Model drop-down to navigate to the “Create Continued pre-training job “ screen. You will provide the source model, name, model encryption, input data, hyper-parameters and output data. Additionally, you can provide Tags along with details about IAM roles and resource policies for the job.\\n\\n\\n\\n\\n\\n\\n\\n\\n\\n\\nAmazon Titan\\nOpen all\\n\\n\\n\\nWhat are Amazon Titan models? \\n\\n\\n\\n\\n\\n\\nExclusive to Amazon Bedrock, the Amazon Titan family of models incorporates Amazon’s 25 years of experience innovating with AI and machine learning across its business. Amazon Titan foundation models (FMs) provide customers with a breadth of high-performing image, multimodal, and text model choices, via a fully managed API. Amazon Titan models are created by AWS and pretrained on large datasets, making them powerful, general-purpose models built to support a variety of use cases, while also supporting the responsible use of AI. Use them as is or privately customize them with your own data.\\n\\n\\n\\n\\n\\nWhere can I learn more about data processed to develop and train Amazon Titan FMs?\\n\\n\\n\\n\\n\\n\\nTo learn more about data processed to develop and train Amazon Titan FMs, visit the Amazon Titan Model Training & Privacy page.\\n\\n\\n\\n\\n\\n\\n\\n\\n\\n\\nRetrieval augmented generation (RAG)\\nOpen all\\n\\n\\n\\nWhat types of data formats are accepted by Knowledge Bases for Amazon Bedrock?\\n\\n\\n\\n\\n\\n\\nSupported data formats include .pdf, .txt, .md, .html, .doc and .docx, .csv, .xls, and .xlsx files. Files must be uploaded to Amazon S3. Simply point to the location of your data in Amazon S3, and Knowledge Bases for Amazon Bedrock takes care of the entire ingestion workflow into your vector database.\\n\\n\\n\\n\\n\\nHow does Knowledge Bases for Amazon Bedrock chunk the documents before converting those chunks to embeddings?\\n\\n\\n\\n\\n\\n\\nKnowledge Bases for Amazon Bedrock provides three options to chunk text before converting it to embeddings.\\xa0\\n1.\\xa0 Default option: Knowledge Bases for Amazon Bedrock automatically splits your document into chunks each containing 200 tokens ensuring that a sentence is not broken in the middle. If a document contains less than 200 tokens, then it is not split any further. An overlap of 20% of tokens is maintained between two consecutive chunks.  2.\\xa0 Fixed size chunking: In this option, you can specify the maximum number of tokens per chunk and the overlap percentage between chunks for Knowledge Bases for Amazon Bedrock to automatically split your document into chunks ensuring that a sentence is not broken in the middle.\\xa0  3.\\xa0 Create one embedding per document option: Amazon Bedrock creates one embedding per document. This option is suitable if you have pre-processed your documents by splitting them into separate files and do not want Bedrock to further chunk your documents. \\xa0\\n\\n\\n\\n\\n\\nWhich embeddings model is used to convert documents into embeddings (vectors)?\\n\\n\\n\\n\\n\\n\\nAt present, Knowledge Bases for Amazon Bedrock uses the latest version of the Titan Text Embeddings model available in Amazon Bedrock. Titan Text Embeddings model supports 8K tokens and 25+ languages and creates an embeddings of 1,536 dimension size.\\xa0\\n\\n\\n\\n\\n\\nWhich vector databases are supported by Knowledge Bases for Amazon Bedrock?\\n\\n\\n\\n\\n\\n\\nKnowledge Bases for Amazon Bedrock takes care of the entire ingestion workflow of converting your documents into embeddings (vector) and storing the embeddings in a specialized vector database. Knowledge Bases for Amazon Bedrock supports popular databases for vector storage, including vector engine for Amazon OpenSearch Serverless, Pinecone, Redis Enterprise Cloud, Amazon Aurora (coming soon), and MongoDB (coming soon). If you do not have an existing vector database, Amazon Bedrock creates an Amazon OpenSearch Serverless vector store for you.\\n\\n\\n\\n\\n\\nIs it possible to do a periodic or event driven sync from Amazon S3 to Knowledge Bases for Amazon Bedrock?\\n\\n\\n\\n\\n\\n\\nDepending on your use case, you can use Amazon EventBridge to create a periodic or event driven sync between Amazon S3 to Knowledge Bases for Amazon Bedrock.\\n\\n\\n\\n\\n\\n\\n\\n\\n\\n\\nModel Evaluation\\nOpen all\\n\\n\\n\\nWhat is Amazon Bedrock Model Evaluation?\\n\\n\\n\\n\\n\\n\\nModel Evaluation on Amazon Bedrock allows you to evaluate, compare, and select the best foundation model for your use case in just a few clicks. Amazon Bedrock offers a choice of automatic evaluation and human evaluation. You can use automatic evaluation with predefined metrics such as accuracy, robustness, and toxicity. You can use human evaluation workflows for subjective or custom metrics such as friendliness, style, and alignment to brand voice. For human evaluation, you can leverage your in-house employees or an AWS-managed team as reviewers. Model evaluation provides built-in curated datasets or you can bring your own datasets.\\n\\n\\n\\n\\n\\nAgainst what metrics can I evaluate FMs?\\n\\n\\n\\n\\n\\n\\nYou can evaluate variety of predefined metrics such as accuracy, robustness, and toxicity using automatic evaluations. You can also use human evaluation workflows for subjective or custom metrics, such as friendliness, relevance, style, and alignment to brand voice.\\n\\n\\n\\n\\n\\nWhat is the difference between human-based and automatic evaluations?\\n\\n\\n\\n\\n\\n\\nAutomatic evaluations allow you to quickly narrow down the list of available FMs against standard criteria (such as accuracy, toxicity and robustness). Human-based evaluations are often used to evaluate more nuanced or subjective criteria which require human judgment and where automatic evaluations might not exist (such as brand voice, creative intent, friendliness).\\n\\n\\n\\n\\n\\nHow does automatic evaluation method work?\\n\\n\\n\\n\\n\\n\\nYou can quickly evaluate Bedrock models for metrics such as accuracy, robustness, and toxicity by leveraging curated built-in datasets, or by bringing your own prompt data sets. After your prompt datasets are sent to Amazon Bedrock models for inference, the model responses are scored with evaluation algorithms for each dimension. The backend engine aggregates individual prompt response scores into summary scores and presents them through easy-to-understand visual reports.\\n\\n\\n\\n\\n\\nHow does human evaluation work?\\n\\n\\n\\n\\n\\n\\nAmazon Bedrock allows you to set up human review workflows with a few clicks and bring your in-house employees or leverage an expert AWS-managed team to evaluate models. Through Amazon Bedrock’s intuitive interface, humans can review and give feedback on model responses by clicking thumbs up/down, rating on a scale of 1-5, choosing the best of multiple responses, or ranking prompts. For example, a team member can be shown how two models respond to the same prompt, and then be asked to select the model that shows more accurate, relevant, or stylistic outputs. You can specify the evaluation criteria that matter to you, simply by customizing the instructions and buttons to appear on the evaluation UI for your team. You can also provide detailed instructions with examples and the overall goal of model evaluation, so they can align their work accordingly. This method is useful to evaluate subjective criteria that require human judgement, or more nuanced subject matter expertise, and cannot be easily judged by automatic evaluations.\\n\\n\\n\\n\\n\\n\\n\\n\\n\\n\\nResponsible AI\\nOpen all\\n\\n\\n\\nWhat are Guardrails for Amazon Bedrock?\\n\\n\\n\\n\\n\\n\\nGuardrails for Amazon Bedrock enables you to implement safeguards for your generative AI applications based on your use cases and responsible AI policies. Guardrails helps control the interaction between users and Foundation Models (FMs) by filtering undesirable and harmful content and will soon redact personally identifiable information (PII), enhancing content safety and privacy in generative AI applications. You can create multiple guardrails with different configurations tailored to specific use cases. Additionally, you can continuously monitor and analyze user inputs and FM responses that may violate customer-defined policies in the guardrails.\\n\\n\\n\\n\\n\\nWhat are the safeguards available in Guardrails for Amazon Bedrock?\\n\\n\\n\\n\\n\\n\\nGuardrails allows customers to define a set of policies to help safeguard your generative AI applications. You can configure the following policies in a guardrail.\\n\\nDenied Topics – You can define a set of topics that are undesirable in the context of your application. For example, an online banking assistant can be designed to refrain from providing investment advice.\\nContent Filters – You can configure thresholds to filter harmful content across hate, insults, sexual and violence categories.\\nWord Filters (Coming Soon) – You can define a set of words to block in user inputs and FM-generated responses.\\nPII Redaction (Coming Soon) – You can select a set of PII that can be redacted in FM-generated responses. Based on the use case, you can also block a user input if it contains PII.\\n\\n\\n\\n\\n\\n\\nCan I use guardrails with all available FMs and tools on Amazon Bedrock?\\n\\n\\n\\n\\n\\n\\nGuardrails can be used with all large language models available on Amazon Bedrock, including Titan, Anthropic Claude, Meta Llama 2, AI21 Jurassic and Cohere Command FMs. It can also be used with fine-tuned FMs as well as Agents for Amazon Bedrock.\\n\\n\\n\\n\\n\\nDoes AWS offer an intellectual property indemnity covering copyright claims for its generative AI services?\\n\\n\\n\\n\\n\\n\\nAWS offers an uncapped intellectual property (IP) indemnity for copyright claims arising from generative output of the following generally available Amazon generative AI services: Amazon Titan models, Amazon CodeWhisperer Professional, and other Services listed in Section 50.10 of the Service Terms (the “Indemnified Generative AI Services”). This means that customers are protected from third-party claims alleging copyright infringement by the output generated by the Indemnified Generative AI Services in response to inputs or other data provided by the customer. Customers must also use the Services responsibly, such as not inputting infringing data or disabling a Service’s filtering features.\\nIn addition, our standard IP indemnity for use of the Services protects customers from third-party claims alleging IP infringement (including copyright claims) by the Services and the data used to train them.\\n\\n\\n\\n\\n\\n\\n\\n\\n\\n\\n\\n\\n\\n\\n\\n\\n\\n\\n\\n\\n\\n\\n\\nHow to get started\\n\\n\\n\\n\\n\\n\\n\\n\\n\\n\\n\\n\\nTutorial\\n\\n\\nExplore common generative AI use cases with Amazon Bedrock Workshop\\n\\nGain hands-on experience\\n\\n\\n\\n\\n\\n\\n\\n\\n\\n\\n\\n\\n\\n\\nVideo\\n\\n\\nGet started with a step-by-step tutorial\\n\\nWatch the video\\n\\n\\n\\n\\n\\n\\n\\n\\n\\n\\n\\n\\n\\n\\n\\n\\n\\n\\n\\n\\n\\n  Sign In to the Console \\n\\n Learn About AWS\\n\\nWhat Is AWS?\\nWhat Is Cloud Computing?\\nAWS Inclusion, Diversity & Equity\\nWhat Is DevOps?\\nWhat Is a Container?\\nWhat Is a Data Lake?\\nWhat is Generative AI?\\nAWS Cloud Security\\nWhat's New\\nBlogs\\nPress Releases\\n\\n\\n\\n Resources for AWS\\n\\nGetting Started\\nTraining and Certification\\nAWS Solutions Library\\nArchitecture Center\\nProduct and Technical FAQs\\nAnalyst Reports\\nAWS Partners\\n\\n\\n\\n Developers on AWS\\n\\nDeveloper Center\\nSDKs & Tools\\n.NET on AWS\\nPython on AWS\\nJava on AWS\\nPHP on AWS\\nJavaScript on AWS\\n\\n\\n\\n Help\\n\\nContact Us\\nGet Expert Help\\nFile a Support Ticket\\nAWS re:Post\\nKnowledge Center\\nAWS Support Overview\\nLegal\\nAWS Careers\\n\\n\\n\\n\\n\\n\\n\\n  Create an AWS Account \\n\\n\\n\\n\\n\\n \\n\\n\\n \\n\\n\\n \\n\\n\\n \\n\\n\\n\\n\\n\\n\\n \\n\\n\\n \\n\\n\\n \\n\\n\\n \\n\\n\\n\\n\\n\\n         Amazon is an Equal Opportunity Employer: \\n         Minority / Women / Disability / Veteran / Gender Identity / Sexual Orientation / Age.\\n\\n\\n\\n\\n\\n\\n\\n\\n\\nLanguage\\nعربي\\nBahasa Indonesia\\nDeutsch\\nEnglish\\nEspañol\\nFrançais\\nItaliano\\nPortuguês\\nTiếng Việt\\nTürkçe\\nΡусский\\nไทย\\n日本語\\n한국어\\n中文 (简体)\\n中文 (繁體)\\n\\n\\n\\n\\n\\n\\n\\n\\nPrivacy\\n|\\nSite Terms\\n|\\n Cookie Preferences \\n|\\n© 2023, Amazon Web Services, Inc. or its affiliates. All rights reserved.\\n\\n\\n\\n\\n\\n\\n\\n\\n\\n\\n\\n\\n\\n\\n\\n Ending Support for Internet Explorer\\n Got it \\n\\n\\n       AWS support for Internet Explorer ends on 07/31/2022. Supported browsers are Chrome, Firefox, Edge, and Safari. \\n      Learn more »\\n\\n\\nGot it\\n\\n\\n\\n\\n\\n\\n\\n\""
      ]
     },
     "execution_count": 7,
     "metadata": {},
     "output_type": "execute_result"
    }
   ],
   "source": [
    "bedrock_docs[0].page_content"
   ]
  },
  {
   "cell_type": "markdown",
   "id": "f3f86bf3-f8e9-478c-afa1-929a3e236385",
   "metadata": {},
   "source": [
    "## Total Bedrock FAQ is 29k characters long"
   ]
  },
  {
   "cell_type": "code",
   "execution_count": 8,
   "id": "1df15ee8-b1ac-4df8-b136-e05ad4bd1204",
   "metadata": {},
   "outputs": [
    {
     "data": {
      "text/plain": [
       "29535"
      ]
     },
     "execution_count": 8,
     "metadata": {},
     "output_type": "execute_result"
    }
   ],
   "source": [
    "len(bedrock_docs[0].page_content)"
   ]
  },
  {
   "cell_type": "markdown",
   "id": "b0063cae-0592-460d-8a3a-25abd830dd28",
   "metadata": {},
   "source": [
    "## sample data from Bedrock FAQ"
   ]
  },
  {
   "cell_type": "code",
   "execution_count": 9,
   "id": "26f47142-5613-4e44-be78-6e14be9b92b8",
   "metadata": {},
   "outputs": [
    {
     "name": "stdout",
     "output_type": "stream",
     "text": [
      "'s Llama 2, and the Amazon Titan language and embeddings models.\n",
      "\n",
      "\n",
      "\n",
      "\n",
      "\n",
      "Why should I use Amazon Bedrock?\n",
      "\n",
      "\n",
      "\n",
      "\n",
      "\n",
      "\n",
      "There are five reasons to use Amazon Bedrock for building generative AI applications.\n",
      "\n",
      "Choice of leading foundation models: Amazon Bedrock offers an easy-to-use developer experience to work with a broad range of high-performing FMs from Amazon and leading AI companies like AI21 Labs, Anthropic, Cohere, Meta, and Stability AI. You can quickly experiment with a variety of FMs in the playground, and use a single API for inference regardless of the models you choose, giving you the flexibility to use FMs from different providers and keep up to date with the latest model versions with minimal code changes.\n",
      "Easy model customization with your data: Privately customize FMs with your own data through a visual interface without writing any code. Simply select the training and validation data sets stored in Amazon Simple Storage Service (Amazon S3) and, if required, adjust the hyperparamet\n"
     ]
    }
   ],
   "source": [
    "print(bedrock_docs[0].page_content[3500:4500])"
   ]
  },
  {
   "cell_type": "markdown",
   "id": "1e27db1e-e67b-4324-a15d-18c7e4eb1dbd",
   "metadata": {},
   "source": [
    "## Step2: Split document into chunks\n",
    "### chunk_size=1000 characters with chunk_overlap=200 characters between chunks\n",
    "### Helps preserve the relevant context"
   ]
  },
  {
   "cell_type": "code",
   "execution_count": 10,
   "id": "dcefbcd7-bd66-4470-a436-3df110ea6ad7",
   "metadata": {},
   "outputs": [
    {
     "name": "stdout",
     "output_type": "stream",
     "text": [
      "CPU times: user 3.18 ms, sys: 47 µs, total: 3.23 ms\n",
      "Wall time: 3.23 ms\n"
     ]
    }
   ],
   "source": [
    "%%time\n",
    "text_splitter = RecursiveCharacterTextSplitter(\n",
    "    chunk_size=1000, chunk_overlap=200, add_start_index=True\n",
    ")\n",
    "all_splits = text_splitter.split_documents(bedrock_docs)"
   ]
  },
  {
   "cell_type": "code",
   "execution_count": 11,
   "id": "91e29141-004a-41b5-8b93-5eeeebf1f65b",
   "metadata": {},
   "outputs": [
    {
     "data": {
      "text/plain": [
       "[Document(page_content='Build Generative AI Applications with Foundation Models - Amazon Bedrock FAQs - AWS\\n\\n\\n\\n\\n\\n\\n\\n\\n\\n\\n\\n\\n\\n\\n\\n\\n\\n\\n\\n\\n\\n\\n\\n\\n\\n\\n\\n\\n\\n\\n\\n\\n\\n\\n\\n\\n\\n\\n\\n\\n\\n\\n\\n\\n\\n\\n Skip to main content\\n\\n\\n\\n\\n\\nClick here to return to Amazon Web Services homepage\\n\\n\\n\\nContact Us\\n Support\\xa0 \\nEnglish\\xa0\\nMy Account\\xa0\\n\\n\\n\\n\\n Sign In\\n\\n\\n  Create an AWS Account \\n\\n\\n\\n\\n\\n\\n\\n\\n\\nre:Invent\\nProducts\\nSolutions\\nPricing\\nDocumentation\\nLearn\\nPartner Network\\nAWS Marketplace\\nCustomer Enablement\\nEvents\\nExplore More \\n\\n\\n\\n\\n\\n\\n\\n\\n\\n\\n\\n\\n\\n\\n\\n\\n\\n Close \\n\\n\\n\\nعربي\\nBahasa Indonesia\\nDeutsch\\nEnglish\\nEspañol\\nFrançais\\nItaliano\\nPortuguês\\n\\n\\n\\n\\nTiếng Việt\\nTürkçe\\nΡусский\\nไทย\\n日本語\\n한국어\\n中文 (简体)\\n中文 (繁體)\\n\\n\\n\\n\\n\\n Close \\n\\nMy Profile\\nSign out of AWS Builder ID\\nAWS Management Console\\nAccount Settings\\nBilling & Cost Management\\nSecurity Credentials\\nAWS Personal Health Dashboard\\n\\n\\n\\n Close \\n\\nSupport Center\\nExpert Help\\nKnowledge Center\\nAWS Support Overview\\nAWS re:Post\\n\\n\\n\\n\\n\\n\\n\\n\\n\\n\\n\\n\\nClick here to return to Amazon Web Services homepage\\n\\n\\n\\n\\n\\n\\n\\n  Get Started for Free \\n\\n\\n  Contact Us', metadata={'source': 'https://aws.amazon.com/bedrock/faqs/', 'title': 'Build Generative AI Applications with Foundation Models - Amazon Bedrock FAQs - AWS', 'description': 'Find answers to frequently asked questions about Amazon Bedrock.', 'language': 'en-US', 'start_index': 11}),\n",
       " Document(page_content='Support Center\\nExpert Help\\nKnowledge Center\\nAWS Support Overview\\nAWS re:Post\\n\\n\\n\\n\\n\\n\\n\\n\\n\\n\\n\\n\\nClick here to return to Amazon Web Services homepage\\n\\n\\n\\n\\n\\n\\n\\n  Get Started for Free \\n\\n\\n  Contact Us \\n\\n\\n\\n\\n\\n\\n\\n\\n\\n\\n\\n\\n re:Invent \\n Products \\n Solutions \\n Pricing \\n Introduction to AWS \\n Getting Started \\n Documentation \\n Training and Certification \\n Developer Center \\n Customer Success \\n Partner Network \\n AWS Marketplace \\n Support \\n AWS re:Post \\n Log into Console \\n Download the Mobile App \\n\\n\\n\\n\\n\\n\\n\\n Amazon Bedrock\\n\\n\\n Overview\\n Features\\xa0 \\n Pricing\\n Models\\xa0 \\n FAQs\\n Testimonials\\n Resources\\n\\n\\n\\n\\n\\n Close \\n Agents\\n Developer Experience\\n Guardrails\\n Knowledge Bases\\n Security and Privacy\\n\\n\\n Close \\n Claude\\n Command & Embed\\n Jurassic\\n Llama 2\\n Stable Diffusion \\n Titan\\n\\n\\n\\n\\n\\n\\n\\n\\n\\n\\n\\n\\n\\n\\n\\nGenerative AI›\\nAmazon Bedrock›\\nFAQs\\n\\n\\n\\n\\n\\nAmazon Bedrock FAQs', metadata={'source': 'https://aws.amazon.com/bedrock/faqs/', 'title': 'Build Generative AI Applications with Foundation Models - Amazon Bedrock FAQs - AWS', 'description': 'Find answers to frequently asked questions about Amazon Bedrock.', 'language': 'en-US', 'start_index': 787}),\n",
       " Document(page_content='Close \\n Claude\\n Command & Embed\\n Jurassic\\n Llama 2\\n Stable Diffusion \\n Titan\\n\\n\\n\\n\\n\\n\\n\\n\\n\\n\\n\\n\\n\\n\\n\\nGenerative AI›\\nAmazon Bedrock›\\nFAQs\\n\\n\\n\\n\\n\\nAmazon Bedrock FAQs\\n\\n\\n\\n\\n\\n\\n\\n\\n\\n\\n\\n\\n\\n\\n\\n\\nPage Topics\\nGeneral \\n            \\n              10 \\n            \\nAgents \\n            \\n              4 \\n            \\nSecurity \\n            \\n              4 \\n            \\nSDK \\n            \\n              2 \\n            \\nBilling and Support \\n            \\n              3 \\n            \\nCustomization \\n            \\n              6 \\n            \\nAmazon Titan \\n            \\n              2 \\n            \\nRetrieval augmented generation (RAG) \\n            \\n              5 \\n            \\nModel Evaluation \\n            \\n              5 \\n            \\nResponsible AI \\n            \\n              4 \\n            \\n\\n\\n\\n\\n\\n\\n\\n\\n             General \\n           \\n\\n\\n\\n\\n\\n\\n\\n\\n\\n\\n\\n\\n\\nGeneral\\nOpen all\\n\\n\\n\\nWhat is Amazon Bedrock?', metadata={'source': 'https://aws.amazon.com/bedrock/faqs/', 'title': 'Build Generative AI Applications with Foundation Models - Amazon Bedrock FAQs - AWS', 'description': 'Find answers to frequently asked questions about Amazon Bedrock.', 'language': 'en-US', 'start_index': 1455}),\n",
       " Document(page_content=\"General\\nOpen all\\n\\n\\n\\nWhat is Amazon Bedrock?\\n\\n\\n\\n\\n\\n\\nAmazon Bedrock is a fully managed service that offers a choice of high-performing foundation models (FMs) along with a broad set of capabilities that you need to build generative AI applications, simplifying development with security, privacy and responsible AI . With Amazon Bedrock’s comprehensive capabilities, you can easily experiment with a variety of top FMs, customize them privately with your data using techniques such as fine tuning and retrieval-augmented generation (RAG), and create managed agents that execute complex business tasks—from booking travel and processing insurance claims to creating ad campaigns and managing inventory—all without writing any code. Since Amazon Bedrock is serverless, you don't have to manage any infrastructure, and you can securely integrate and deploy generative AI capabilities into your applications using the AWS services you are already familiar with.\", metadata={'source': 'https://aws.amazon.com/bedrock/faqs/', 'title': 'Build Generative AI Applications with Foundation Models - Amazon Bedrock FAQs - AWS', 'description': 'Find answers to frequently asked questions about Amazon Bedrock.', 'language': 'en-US', 'start_index': 2276}),\n",
       " Document(page_content=\"Which FMs are available on Amazon Bedrock?\\xa0\\n\\n\\n\\n\\n\\n\\nAmazon Bedrock customers can choose from some of the most cutting-edge FMs available today. This includes Anthropic's Claude, AI21 Labs' Jurassic-2, Stability AI's Stable Diffusion, Cohere's Command and Embed, Meta's Llama 2, and the Amazon Titan language and embeddings models.\\n\\n\\n\\n\\n\\nWhy should I use Amazon Bedrock?\\n\\n\\n\\n\\n\\n\\nThere are five reasons to use Amazon Bedrock for building generative AI applications.\", metadata={'source': 'https://aws.amazon.com/bedrock/faqs/', 'title': 'Build Generative AI Applications with Foundation Models - Amazon Bedrock FAQs - AWS', 'description': 'Find answers to frequently asked questions about Amazon Bedrock.', 'language': 'en-US', 'start_index': 3236}),\n",
       " Document(page_content='Choice of leading foundation models:\\xa0Amazon Bedrock offers an easy-to-use developer experience to work with a broad range of high-performing FMs from Amazon and leading AI companies like AI21 Labs, Anthropic, Cohere, Meta, and Stability AI. You can quickly experiment with a variety of FMs in the playground, and use a single API for inference regardless of the models you choose, giving you the flexibility to use FMs from different providers and keep up to date with the latest model versions with minimal code changes.\\nEasy model customization with your data: Privately customize FMs with your own data through a visual interface without writing any code. Simply select the training and validation data sets stored in Amazon Simple Storage Service (Amazon S3) and, if required, adjust the hyperparameters to achieve the best possible model performance.', metadata={'source': 'https://aws.amazon.com/bedrock/faqs/', 'title': 'Build Generative AI Applications with Foundation Models - Amazon Bedrock FAQs - AWS', 'description': 'Find answers to frequently asked questions about Amazon Bedrock.', 'language': 'en-US', 'start_index': 3696}),\n",
       " Document(page_content=\"Fully managed agents that can invoke APIs dynamically to execute tasks: Build agents that execute complex business tasks—from booking travel and processing insurance claims to creating ad campaigns, preparing tax filings, and managing your inventory—by dynamically calling your company systems and APIs. Amazon Bedrock's fully managed agents extend the reasoning capabilities of FMs to break down tasks, create an orchestration plan, and execute it.\\nNative support for RAG to extend the power of FMs with proprietary data:\\xa0With Knowledge Bases for Amazon Bedrock, you can securely connect FMs to your data sources for retrieval augmentation—from within the managed service—extending the FM’s already powerful capabilities and making it more knowledgeable about your specific domain and organization.\", metadata={'source': 'https://aws.amazon.com/bedrock/faqs/', 'title': 'Build Generative AI Applications with Foundation Models - Amazon Bedrock FAQs - AWS', 'description': 'Find answers to frequently asked questions about Amazon Bedrock.', 'language': 'en-US', 'start_index': 4552}),\n",
       " Document(page_content='Data security and compliance certifications: Amazon Bedrock offers several capabilities to support security and privacy requirements. Bedrock is in scope for common compliance standards such as Service and Organization Control (SOC), International Organization for Standardization (ISO), Health Insurance Portability and Accountability Act (HIPAA) eligible, and customers can use Bedrock in compliance with the General Data Protection Regulation (GDPR). Amazon Bedrock is CSA Security Trust Assurance and Risk (STAR) Level 2 certified, which validates the use of best practices and the security posture of AWS cloud offerings. With Amazon Bedrock, your content is not used to improve the base models and is not shared with any model providers. Your data in Amazon Bedrock is always encrypted in transit and at rest, and you can optionally encrypt the data using your own keys. You can use AWS PrivateLink with Amazon Bedrock to establish private connectivity between your FMs and your Amazon Virtual', metadata={'source': 'https://aws.amazon.com/bedrock/faqs/', 'title': 'Build Generative AI Applications with Foundation Models - Amazon Bedrock FAQs - AWS', 'description': 'Find answers to frequently asked questions about Amazon Bedrock.', 'language': 'en-US', 'start_index': 5352}),\n",
       " Document(page_content='and at rest, and you can optionally encrypt the data using your own keys. You can use AWS PrivateLink with Amazon Bedrock to establish private connectivity between your FMs and your Amazon Virtual Private Cloud (Amazon VPC) without exposing your traffic to the Internet.', metadata={'source': 'https://aws.amazon.com/bedrock/faqs/', 'title': 'Build Generative AI Applications with Foundation Models - Amazon Bedrock FAQs - AWS', 'description': 'Find answers to frequently asked questions about Amazon Bedrock.', 'language': 'en-US', 'start_index': 6155}),\n",
       " Document(page_content='How can I get started with Amazon Bedrock?\\n\\n\\n\\n\\n\\n\\nWith the serverless experience of Amazon Bedrock, you can quickly get started. Navigate to Amazon Bedrock in the AWS console and try out the FMs in the playground. You can also create an agent and test it in the console. Once you’ve identified your use case, you can easily integrate the FMs into your applications using AWS tools without having to manage any infrastructure.\\n\\n\\n\\n\\n\\nHow does Amazon Bedrock work with other services?\\n\\n\\n\\n\\n\\n\\nAmazon Bedrock leverages AWS Lambda for invoking actions, Amazon S3 for training and validation data, and Amazon CloudWatch for tracking metrics.\\n\\n\\n\\n\\n\\nWhat are the most common use cases for Amazon Bedrock?\\n\\n\\n\\n\\n\\n\\nYou can get started with use cases quickly', metadata={'source': 'https://aws.amazon.com/bedrock/faqs/', 'title': 'Build Generative AI Applications with Foundation Models - Amazon Bedrock FAQs - AWS', 'description': 'Find answers to frequently asked questions about Amazon Bedrock.', 'language': 'en-US', 'start_index': 6432}),\n",
       " Document(page_content='What are the most common use cases for Amazon Bedrock?\\n\\n\\n\\n\\n\\n\\nYou can get started with use cases quickly\\n\\nCreate new pieces of original content, such as short stories, essays, social media posts, and web page copy.\\nSearch, find, and synthesize information to answer questions from a large corpus of data.\\nCreate realistic and artistic images of various subjects, environments, and scenes from language prompts.\\nHelp customers find what they’re looking for with more relevant and contextual product recommendations than word matching.\\nGet a summary of textual content such as articles, blog posts, books, and documents to get the gist without having to read the full content.\\n\\nExplore more generative AI use cases here.\\n\\n\\n\\n\\n\\nWhat is Amazon Bedrock Chat Playground?', metadata={'source': 'https://aws.amazon.com/bedrock/faqs/', 'title': 'Build Generative AI Applications with Foundation Models - Amazon Bedrock FAQs - AWS', 'description': 'Find answers to frequently asked questions about Amazon Bedrock.', 'language': 'en-US', 'start_index': 7069}),\n",
       " Document(page_content='Explore more generative AI use cases here.\\n\\n\\n\\n\\n\\nWhat is Amazon Bedrock Chat Playground?\\n\\n\\n\\n\\n\\n\\nAmazon Bedrock offers a playground that allows you to experiment with various FMs using a conversational chat interface. You can provide a prompt and use a web interface inside the AWS Management Console to supply a prompt and use the pretrained models to generate text or images, or alternatively use a fine-tuned model that has been adapted for your use case.\\n\\n\\n\\n\\n\\nIn which AWS Regions is Amazon Bedrock available?\\n\\n\\n\\n\\n\\n\\nFor a list of AWS Regions where Amazon Bedrock is available, see\\xa0Amazon Bedrock endpoints and quotas in the Amazon Bedrock Reference Guide.\\n\\n\\n\\n\\n\\nHow do I customize a model on Amazon Bedrock?', metadata={'source': 'https://aws.amazon.com/bedrock/faqs/', 'title': 'Build Generative AI Applications with Foundation Models - Amazon Bedrock FAQs - AWS', 'description': 'Find answers to frequently asked questions about Amazon Bedrock.', 'language': 'en-US', 'start_index': 7744}),\n",
       " Document(page_content='For a list of AWS Regions where Amazon Bedrock is available, see\\xa0Amazon Bedrock endpoints and quotas in the Amazon Bedrock Reference Guide.\\n\\n\\n\\n\\n\\nHow do I customize a model on Amazon Bedrock?\\n\\n\\n\\n\\n\\n\\nYou can easily fine-tune FMs on Amazon Bedrock. To get started, provide the training and validation dataset, configure hyperparameters (epochs, batch size, learning rate, warmup steps) and submit the job. Within a couple of hours, your fine-tuned model can be accessed with the same API (InvokeModel).\\n\\n\\n\\n\\n\\nCan I train a model and deploy it on Amazon Bedrock?\\n\\n\\n\\n\\n\\n\\nAmazon Bedrock is a managed service that you can use to access foundational models. You can fine-tune a model and use it with the Amazon Bedrock API.\\n\\n\\n\\n\\n\\n\\n\\n\\n\\n\\nAgents\\nOpen all\\n\\n\\n\\nWhat are Agents for Amazon Bedrock?', metadata={'source': 'https://aws.amazon.com/bedrock/faqs/', 'title': 'Build Generative AI Applications with Foundation Models - Amazon Bedrock FAQs - AWS', 'description': 'Find answers to frequently asked questions about Amazon Bedrock.', 'language': 'en-US', 'start_index': 8261}),\n",
       " Document(page_content='Agents for Amazon Bedrock are fully managed capabilities that make it easier for developers to create generative AI-based applications that can complete complex tasks for a wide range of use cases and deliver up-to-date answers based on proprietary knowledge sources. With just a few clicks, Agents for Amazon Bedrock automatically break down tasks and create an orchestration plan–without any manual coding. The agent securely connects to company data through an API, automatically converting data into a machine-readable format, and augmenting the request with relevant information to generate the most accurate response. Agents can then automatically call APIs to fulfill a user’s request. For example, a manufacturing company might want to develop a generative AI application that automates tracking inventory levels, sales data, supply chain information and can recommend optimal reorder points and quantities to maximize efficiency. As fully managed capabilities, Agents for Amazon Bedrock', metadata={'source': 'https://aws.amazon.com/bedrock/faqs/', 'title': 'Build Generative AI Applications with Foundation Models - Amazon Bedrock FAQs - AWS', 'description': 'Find answers to frequently asked questions about Amazon Bedrock.', 'language': 'en-US', 'start_index': 9045}),\n",
       " Document(page_content='inventory levels, sales data, supply chain information and can recommend optimal reorder points and quantities to maximize efficiency. As fully managed capabilities, Agents for Amazon Bedrock remove the undifferentiated lifting of managing system integration and infrastructure provisioning, allowing developers to use generative AI to its full extent throughout their organization.', metadata={'source': 'https://aws.amazon.com/bedrock/faqs/', 'title': 'Build Generative AI Applications with Foundation Models - Amazon Bedrock FAQs - AWS', 'description': 'Find answers to frequently asked questions about Amazon Bedrock.', 'language': 'en-US', 'start_index': 9849}),\n",
       " Document(page_content='How can I connect FMs to my company data sources?\\n\\n\\n\\n\\n\\n\\nYou can securely connect FMs to your company data sources using Agents for Amazon Bedrock. With a knowledge base, you can use agents to give FMs in Amazon Bedrock access to additional data that helps the model generate more relevant, context-specific, and accurate responses without continually retraining the FM. Based on user input, agents identify the appropriate knowledge base, retrieve the relevant information, and add the information to the input prompt, giving the model more context information to generate a completion.\\n\\n\\n\\n\\n\\nWhat are some use cases for Agents for Amazon Bedrock?\\n\\n\\n\\n\\n\\n\\nAgents for Amazon Bedrock can help you increase productivity, improve your customer service experience, or automate DevOps tasks.\\n\\n\\n\\n\\n\\nHow do Agents for Amazon Bedrock help improve developer productivity?', metadata={'source': 'https://aws.amazon.com/bedrock/faqs/', 'title': 'Build Generative AI Applications with Foundation Models - Amazon Bedrock FAQs - AWS', 'description': 'Find answers to frequently asked questions about Amazon Bedrock.', 'language': 'en-US', 'start_index': 10237}),\n",
       " Document(page_content='How do Agents for Amazon Bedrock help improve developer productivity?\\n\\n\\n\\n\\n\\n\\nWith agents, developers have seamless support for monitoring, encryption, user permissions, and API invocation management without writing custom code. Agents for Amazon Bedrock automate the prompt engineering and orchestration of user-requested tasks. Developers can use the agent created prompt template as a baseline to further refine it for an enhanced user experience. They can update the user input, orchestration plan, and the FM response. With access to the prompt template developers have better control over the Agent orchestration.\\nWith fully managed agents, you don’t have to worry about provisioning or managing infrastructure and can take applications to production faster.\\n\\n\\n\\n\\n\\n\\n\\n\\n\\n\\nSecurity\\nOpen all\\n\\n\\n\\nIs the content processed by Amazon Bedrock moved outside the AWS Region where I am using Amazon Bedrock?', metadata={'source': 'https://aws.amazon.com/bedrock/faqs/', 'title': 'Build Generative AI Applications with Foundation Models - Amazon Bedrock FAQs - AWS', 'description': 'Find answers to frequently asked questions about Amazon Bedrock.', 'language': 'en-US', 'start_index': 11025}),\n",
       " Document(page_content='Security\\nOpen all\\n\\n\\n\\nIs the content processed by Amazon Bedrock moved outside the AWS Region where I am using Amazon Bedrock?\\n\\n\\n\\n\\n\\n\\nAny customer content processed by Amazon Bedrock is encrypted and stored at rest in the AWS Region where you are using Amazon Bedrock.\\n\\n\\n\\n\\n\\nAre user inputs and model outputs made available to third-party model providers?\\n\\n\\n\\n\\n\\n\\nNo. Users inputs and model outputs are not shared with any model providers.\\n\\n\\n\\n\\n\\nWhat security and compliance standards does Amazon Bedrock support?', metadata={'source': 'https://aws.amazon.com/bedrock/faqs/', 'title': 'Build Generative AI Applications with Foundation Models - Amazon Bedrock FAQs - AWS', 'description': 'Find answers to frequently asked questions about Amazon Bedrock.', 'language': 'en-US', 'start_index': 11798}),\n",
       " Document(page_content='Amazon Bedrock offers several capabilities to support security and privacy requirements. Bedrock is in scope for common compliance standards such as Service and Organization Control (SOC), International Organization for Standardization (ISO), Health Insurance Portability and Accountability Act (HIPAA) eligible, and customers can use Bedrock in compliance with the General Data Protection Regulation (GDPR). Amazon Bedrock is included in the scope of the SOC 1, 2, 3 reports, allowing customers to gain insights into our security controls. We demonstrate compliance through extensive third-party audits of our AWS controls. Amazon Bedrock is one of the AWS services under ISO Compliance for the ISO 9001, ISO 27001, ISO 27017, ISO 27018, ISO 27701, ISO 22301, and ISO 20000 standards. Amazon Bedrock is CSA Security Trust Assurance and Risk (STAR) Level 2 certified, which validates the use of best practices and the security posture of AWS cloud offerings. With Amazon Bedrock, your content is not', metadata={'source': 'https://aws.amazon.com/bedrock/faqs/', 'title': 'Build Generative AI Applications with Foundation Models - Amazon Bedrock FAQs - AWS', 'description': 'Find answers to frequently asked questions about Amazon Bedrock.', 'language': 'en-US', 'start_index': 12312}),\n",
       " Document(page_content='is CSA Security Trust Assurance and Risk (STAR) Level 2 certified, which validates the use of best practices and the security posture of AWS cloud offerings. With Amazon Bedrock, your content is not used to improve the base models and is not shared with any model providers. You can use AWS PrivateLink to establish private connectivity from your Amazon Virtual Private Cloud (VPC) to Amazon Bedrock, without having to expose your data to internet traffic.', metadata={'source': 'https://aws.amazon.com/bedrock/faqs/', 'title': 'Build Generative AI Applications with Foundation Models - Amazon Bedrock FAQs - AWS', 'description': 'Find answers to frequently asked questions about Amazon Bedrock.', 'language': 'en-US', 'start_index': 13113}),\n",
       " Document(page_content='Will AWS and third-party model providers use customer inputs to or outputs from Amazon Bedrock to train Amazon Titan or any third-party models?\\n\\n\\n\\n\\n\\n\\nNo, AWS and the third-party model providers will not use any inputs to or outputs from Bedrock to train Amazon Titan or any third-party models.\\n\\n\\n\\n\\n\\n\\n\\n\\n\\n\\nSDK\\nOpen all\\n\\n\\n\\nWhat SDKs are supported for Amazon Bedrock?\\n\\n\\n\\n\\n\\n\\nAmazon Bedrock supports SDKs for runtime services. iOS and Android SDKs, as well as Java, JS, Python, CLI, .Net, Ruby, PHP, Go, and CPP support both text and speech input.\\n\\n\\n\\n\\n\\nWhat SDKs support streaming functionality?\\n\\n\\n\\n\\n\\n\\nStreaming is supported on all the SDKs.\\n\\n\\n\\n\\n\\n\\n\\n\\n\\n\\nBilling and Support\\nOpen all\\n\\n\\n\\nHow much does Amazon Bedrock cost?\\n\\n\\n\\n\\n\\n\\nPlease see the Amazon Bedrock Pricing Page for current pricing information.\\n\\n\\n\\n\\n\\nWhat support is provided for Amazon Bedrock?\\n\\n\\n\\n\\n\\n\\nDepending on your AWS support contract, Amazon Bedrock is supported under Developer Support, Business Support and Enterprise Support plans.', metadata={'source': 'https://aws.amazon.com/bedrock/faqs/', 'title': 'Build Generative AI Applications with Foundation Models - Amazon Bedrock FAQs - AWS', 'description': 'Find answers to frequently asked questions about Amazon Bedrock.', 'language': 'en-US', 'start_index': 13577}),\n",
       " Document(page_content='What support is provided for Amazon Bedrock?\\n\\n\\n\\n\\n\\n\\nDepending on your AWS support contract, Amazon Bedrock is supported under Developer Support, Business Support and Enterprise Support plans.\\n\\n\\n\\n\\n\\nHow can I track the input and output tokens?\\n\\n\\n\\n\\n\\n\\nYou can use CloudWatch metrics to track the inputs and output token.\\n\\n\\n\\n\\n\\n\\n\\n\\n\\n\\nCustomization\\nOpen all\\n\\n\\n\\nHow can I securely use my data to customize FMs available through Amazon Bedrock?\\n\\n\\n\\n\\n\\n\\nWith Amazon Bedrock, you can privately customize FMs, retaining control over how your data is used and encrypted. Amazon Bedrock makes a separate copy of the base foundational model and trains this private copy of the model. Your data including prompts, information used to supplement a prompt, FM responses, and customized FMs remain in the Region where the API call is processed.\\n\\n\\n\\n\\n\\nHow does Amazon Bedrock ensure my data used in fine-tuning remains private and confidential?', metadata={'source': 'https://aws.amazon.com/bedrock/faqs/', 'title': 'Build Generative AI Applications with Foundation Models - Amazon Bedrock FAQs - AWS', 'description': 'Find answers to frequently asked questions about Amazon Bedrock.', 'language': 'en-US', 'start_index': 14377}),\n",
       " Document(page_content='How does Amazon Bedrock ensure my data used in fine-tuning remains private and confidential?\\n\\n\\n\\n\\n\\n\\nWhen you’re fine tuning a model, your data is never exposed to the public internet, never leaves the AWS network, is securely transferred through your VPC, and is encrypted in transit and at rest. And, Bedrock enforces the same AWS access controls that you have with any of our other services.\\n\\n\\n\\n\\n\\nDoes Amazon Bedrock support Continued Pre-training?\\n\\n\\n\\n\\n\\n\\nWe launched Continued Pre-training for Titan Text Express and Titan models on Amazon Bedrock; this will enable you to continue the pre-training on a Titan base model using large amounts of unlabeled data. This type of training will adapt the model from a general domain corpus to a more specific domain corpus such as medical, law, finance, etc. while still preserving most of the capabilities of the Titan base model.\\xa0\\n\\n\\n\\n\\n\\nWhy should I use Continued Pre-training in Bedrock?', metadata={'source': 'https://aws.amazon.com/bedrock/faqs/', 'title': 'Build Generative AI Applications with Foundation Models - Amazon Bedrock FAQs - AWS', 'description': 'Find answers to frequently asked questions about Amazon Bedrock.', 'language': 'en-US', 'start_index': 15204}),\n",
       " Document(page_content='Why should I use Continued Pre-training in Bedrock?\\n\\n\\n\\n\\n\\n\\nTypically, enterprises may want to build models for tasks in a specific domain. The base models may not be trained on the technical jargon used in that specific domain. Thus, fine-tuning the base model directly will require large amounts of labeled training records and a long training duration to get accurate results. To ease this burden, the customer can instead provide large amounts of unlabeled data for a Continued Pre-Training job. This job will adapt the Titan base model to the new domain. Then the customer may fine tune the newly pre-trained custom model to downstream tasks using significantly less labeled training records and with less training duration.\\xa0\\n\\n\\n\\n\\n\\nHow does the Continued Pre-training feature relate to other AWS services?', metadata={'source': 'https://aws.amazon.com/bedrock/faqs/', 'title': 'Build Generative AI Applications with Foundation Models - Amazon Bedrock FAQs - AWS', 'description': 'Find answers to frequently asked questions about Amazon Bedrock.', 'language': 'en-US', 'start_index': 16085}),\n",
       " Document(page_content='How does the Continued Pre-training feature relate to other AWS services?\\n\\n\\n\\n\\n\\n\\nBedrock Continued Pre-training and Fine Tuning (FT) have very similar requirements. For this reason, we are choosing to create unified APIs that supports both CPT and FT. Unification of the APIs reduces the learning curve and will help customers use standard features such as CloudWatch Event Bridge to track long running jobs, S3 integration for fetching training data, Resource tags and Model encryption.\\xa0\\n\\n\\n\\n\\n\\nHow do I use Continued Pre-training?', metadata={'source': 'https://aws.amazon.com/bedrock/faqs/', 'title': 'Build Generative AI Applications with Foundation Models - Amazon Bedrock FAQs - AWS', 'description': 'Find answers to frequently asked questions about Amazon Bedrock.', 'language': 'en-US', 'start_index': 16819}),\n",
       " Document(page_content='How do I use Continued Pre-training?\\n\\n\\n\\n\\n\\n\\nContinued Pre-training helps you easily adapt the Titan models to your domain specific data while still preserving base functionality of the Titan models. To create a Continued Pre-training job, navigate to the Bedrock Console and click on ‘Custom Models’. You will navigate to the custom model page that has two tabs: Models and Training jobs. Both tabs provide a drop-down on the right called as “Customize Model”. Select “Continued Pre-training” from the Customize Model drop-down to navigate to the “Create Continued pre-training job “ screen. You will provide the source model, name, model encryption, input data, hyper-parameters and output data. Additionally, you can provide Tags along with details about IAM roles and resource policies for the job.\\n\\n\\n\\n\\n\\n\\n\\n\\n\\n\\nAmazon Titan\\nOpen all\\n\\n\\n\\nWhat are Amazon Titan models?', metadata={'source': 'https://aws.amazon.com/bedrock/faqs/', 'title': 'Build Generative AI Applications with Foundation Models - Amazon Bedrock FAQs - AWS', 'description': 'Find answers to frequently asked questions about Amazon Bedrock.', 'language': 'en-US', 'start_index': 17312}),\n",
       " Document(page_content='Amazon Titan\\nOpen all\\n\\n\\n\\nWhat are Amazon Titan models? \\n\\n\\n\\n\\n\\n\\nExclusive to Amazon Bedrock, the Amazon Titan family of models incorporates Amazon’s 25 years of experience innovating with AI and machine learning across its business. Amazon Titan foundation models (FMs) provide customers with a breadth of high-performing image, multimodal, and text model choices, via a fully managed API. Amazon Titan models are created by AWS and pretrained on large datasets, making them powerful, general-purpose models built to support a variety of use cases, while also supporting the responsible use of AI. Use them as is or privately customize them with your own data.\\n\\n\\n\\n\\n\\nWhere can I learn more about data processed to develop and train Amazon Titan FMs?\\n\\n\\n\\n\\n\\n\\nTo learn more about data processed to develop and train Amazon Titan FMs, visit the Amazon Titan Model Training & Privacy page.\\n\\n\\n\\n\\n\\n\\n\\n\\n\\n\\nRetrieval augmented generation (RAG)\\nOpen all', metadata={'source': 'https://aws.amazon.com/bedrock/faqs/', 'title': 'Build Generative AI Applications with Foundation Models - Amazon Bedrock FAQs - AWS', 'description': 'Find answers to frequently asked questions about Amazon Bedrock.', 'language': 'en-US', 'start_index': 18123}),\n",
       " Document(page_content='To learn more about data processed to develop and train Amazon Titan FMs, visit the Amazon Titan Model Training & Privacy page.\\n\\n\\n\\n\\n\\n\\n\\n\\n\\n\\nRetrieval augmented generation (RAG)\\nOpen all\\n\\n\\n\\nWhat types of data formats are accepted by Knowledge Bases for Amazon Bedrock?\\n\\n\\n\\n\\n\\n\\nSupported data formats include .pdf, .txt, .md, .html, .doc and .docx, .csv, .xls, and .xlsx files. Files must be uploaded to Amazon S3. Simply point to the location of your data in Amazon S3, and Knowledge Bases for Amazon Bedrock takes care of the entire ingestion workflow into your vector database.\\n\\n\\n\\n\\n\\nHow does Knowledge Bases for Amazon Bedrock chunk the documents before converting those chunks to embeddings?', metadata={'source': 'https://aws.amazon.com/bedrock/faqs/', 'title': 'Build Generative AI Applications with Foundation Models - Amazon Bedrock FAQs - AWS', 'description': 'Find answers to frequently asked questions about Amazon Bedrock.', 'language': 'en-US', 'start_index': 18876}),\n",
       " Document(page_content='Knowledge Bases for Amazon Bedrock provides three options to chunk text before converting it to embeddings.\\xa0\\n1.\\xa0 Default option: Knowledge Bases for Amazon Bedrock automatically splits your document into chunks each containing 200 tokens ensuring that a sentence is not broken in the middle. If a document contains less than 200 tokens, then it is not split any further. An overlap of 20% of tokens is maintained between two consecutive chunks.  2.\\xa0 Fixed size chunking: In this option, you can specify the maximum number of tokens per chunk and the overlap percentage between chunks for Knowledge Bases for Amazon Bedrock to automatically split your document into chunks ensuring that a sentence is not broken in the middle.\\xa0  3.\\xa0 Create one embedding per document option: Amazon Bedrock creates one embedding per document. This option is suitable if you have pre-processed your documents by splitting them into separate files and do not want Bedrock to further chunk your documents.', metadata={'source': 'https://aws.amazon.com/bedrock/faqs/', 'title': 'Build Generative AI Applications with Foundation Models - Amazon Bedrock FAQs - AWS', 'description': 'Find answers to frequently asked questions about Amazon Bedrock.', 'language': 'en-US', 'start_index': 19572}),\n",
       " Document(page_content='Which embeddings model is used to convert documents into embeddings (vectors)?\\n\\n\\n\\n\\n\\n\\nAt present, Knowledge Bases for Amazon Bedrock uses the latest version of the Titan Text Embeddings model available in Amazon Bedrock. Titan Text Embeddings model supports 8K tokens and 25+ languages and creates an embeddings of 1,536 dimension size.\\xa0\\n\\n\\n\\n\\n\\nWhich vector databases are supported by Knowledge Bases for Amazon Bedrock?\\n\\n\\n\\n\\n\\n\\nKnowledge Bases for Amazon Bedrock takes care of the entire ingestion workflow of converting your documents into embeddings (vector) and storing the embeddings in a specialized vector database. Knowledge Bases for Amazon Bedrock supports popular databases for vector storage, including vector engine for Amazon OpenSearch Serverless, Pinecone, Redis Enterprise Cloud, Amazon Aurora (coming soon), and MongoDB (coming soon). If you do not have an existing vector database, Amazon Bedrock creates an Amazon OpenSearch Serverless vector store for you.', metadata={'source': 'https://aws.amazon.com/bedrock/faqs/', 'title': 'Build Generative AI Applications with Foundation Models - Amazon Bedrock FAQs - AWS', 'description': 'Find answers to frequently asked questions about Amazon Bedrock.', 'language': 'en-US', 'start_index': 20564}),\n",
       " Document(page_content='Is it possible to do a periodic or event driven sync from Amazon S3 to Knowledge Bases for Amazon Bedrock?\\n\\n\\n\\n\\n\\n\\nDepending on your use case, you can use Amazon EventBridge to create a periodic or event driven sync between Amazon S3 to Knowledge Bases for Amazon Bedrock.\\n\\n\\n\\n\\n\\n\\n\\n\\n\\n\\nModel Evaluation\\nOpen all\\n\\n\\n\\nWhat is Amazon Bedrock Model Evaluation?', metadata={'source': 'https://aws.amazon.com/bedrock/faqs/', 'title': 'Build Generative AI Applications with Foundation Models - Amazon Bedrock FAQs - AWS', 'description': 'Find answers to frequently asked questions about Amazon Bedrock.', 'language': 'en-US', 'start_index': 21542}),\n",
       " Document(page_content='Model Evaluation\\nOpen all\\n\\n\\n\\nWhat is Amazon Bedrock Model Evaluation?\\n\\n\\n\\n\\n\\n\\nModel Evaluation on Amazon Bedrock allows you to evaluate, compare, and select the best foundation model for your use case in just a few clicks. Amazon Bedrock offers a choice of automatic evaluation and human evaluation. You can use automatic evaluation with predefined metrics such as accuracy, robustness, and toxicity. You can use human evaluation workflows for subjective or custom metrics such as friendliness, style, and alignment to brand voice. For human evaluation, you can leverage your in-house employees or an AWS-managed team as reviewers. Model evaluation provides built-in curated datasets or you can bring your own datasets.\\n\\n\\n\\n\\n\\nAgainst what metrics can I evaluate FMs?', metadata={'source': 'https://aws.amazon.com/bedrock/faqs/', 'title': 'Build Generative AI Applications with Foundation Models - Amazon Bedrock FAQs - AWS', 'description': 'Find answers to frequently asked questions about Amazon Bedrock.', 'language': 'en-US', 'start_index': 21823}),\n",
       " Document(page_content='Against what metrics can I evaluate FMs?\\n\\n\\n\\n\\n\\n\\nYou can evaluate variety of predefined metrics such as accuracy, robustness, and toxicity using automatic evaluations. You can also use human evaluation workflows for subjective or custom metrics, such as friendliness, relevance, style, and alignment to brand voice.\\n\\n\\n\\n\\n\\nWhat is the difference between human-based and automatic evaluations?\\n\\n\\n\\n\\n\\n\\nAutomatic evaluations allow you to quickly narrow down the list of available FMs against standard criteria (such as accuracy, toxicity and robustness). Human-based evaluations are often used to evaluate more nuanced or subjective criteria which require human judgment and where automatic evaluations might not exist (such as brand voice, creative intent, friendliness).\\n\\n\\n\\n\\n\\nHow does automatic evaluation method work?', metadata={'source': 'https://aws.amazon.com/bedrock/faqs/', 'title': 'Build Generative AI Applications with Foundation Models - Amazon Bedrock FAQs - AWS', 'description': 'Find answers to frequently asked questions about Amazon Bedrock.', 'language': 'en-US', 'start_index': 22546}),\n",
       " Document(page_content='How does automatic evaluation method work?\\n\\n\\n\\n\\n\\n\\nYou can quickly evaluate Bedrock models for metrics such as accuracy, robustness, and toxicity by leveraging curated built-in datasets, or by bringing your own prompt data sets. After your prompt datasets are sent to Amazon Bedrock models for inference, the model responses are scored with evaluation algorithms for each dimension. The backend engine aggregates individual prompt response scores into summary scores and presents them through easy-to-understand visual reports.\\n\\n\\n\\n\\n\\nHow does human evaluation work?', metadata={'source': 'https://aws.amazon.com/bedrock/faqs/', 'title': 'Build Generative AI Applications with Foundation Models - Amazon Bedrock FAQs - AWS', 'description': 'Find answers to frequently asked questions about Amazon Bedrock.', 'language': 'en-US', 'start_index': 23316}),\n",
       " Document(page_content='Amazon Bedrock allows you to set up human review workflows with a few clicks and bring your in-house employees or leverage an expert AWS-managed team to evaluate models. Through Amazon Bedrock’s intuitive interface, humans can review and give feedback on model responses by clicking thumbs up/down, rating on a scale of 1-5, choosing the best of multiple responses, or ranking prompts. For example, a team member can be shown how two models respond to the same prompt, and then be asked to select the model that shows more accurate, relevant, or stylistic outputs. You can specify the evaluation criteria that matter to you, simply by customizing the instructions and buttons to appear on the evaluation UI for your team. You can also provide detailed instructions with examples and the overall goal of model evaluation, so they can align their work accordingly. This method is useful to evaluate subjective criteria that require human judgement, or more nuanced subject matter expertise, and cannot', metadata={'source': 'https://aws.amazon.com/bedrock/faqs/', 'title': 'Build Generative AI Applications with Foundation Models - Amazon Bedrock FAQs - AWS', 'description': 'Find answers to frequently asked questions about Amazon Bedrock.', 'language': 'en-US', 'start_index': 23885}),\n",
       " Document(page_content='of model evaluation, so they can align their work accordingly. This method is useful to evaluate subjective criteria that require human judgement, or more nuanced subject matter expertise, and cannot be easily judged by automatic evaluations.', metadata={'source': 'https://aws.amazon.com/bedrock/faqs/', 'title': 'Build Generative AI Applications with Foundation Models - Amazon Bedrock FAQs - AWS', 'description': 'Find answers to frequently asked questions about Amazon Bedrock.', 'language': 'en-US', 'start_index': 24685}),\n",
       " Document(page_content='Responsible AI\\nOpen all\\n\\n\\n\\nWhat are Guardrails for Amazon Bedrock?\\n\\n\\n\\n\\n\\n\\nGuardrails for Amazon Bedrock enables you to implement safeguards for your generative AI applications based on your use cases and responsible AI policies. Guardrails helps control the interaction between users and Foundation Models (FMs) by filtering undesirable and harmful content and will soon redact personally identifiable information (PII), enhancing content safety and privacy in generative AI applications. You can create multiple guardrails with different configurations tailored to specific use cases. Additionally, you can continuously monitor and analyze user inputs and FM responses that may violate customer-defined policies in the guardrails.\\n\\n\\n\\n\\n\\nWhat are the safeguards available in Guardrails for Amazon Bedrock?\\n\\n\\n\\n\\n\\n\\nGuardrails allows customers to define a set of policies to help safeguard your generative AI applications. You can configure the following policies in a guardrail.', metadata={'source': 'https://aws.amazon.com/bedrock/faqs/', 'title': 'Build Generative AI Applications with Foundation Models - Amazon Bedrock FAQs - AWS', 'description': 'Find answers to frequently asked questions about Amazon Bedrock.', 'language': 'en-US', 'start_index': 24938}),\n",
       " Document(page_content='Guardrails allows customers to define a set of policies to help safeguard your generative AI applications. You can configure the following policies in a guardrail.\\n\\nDenied Topics – You can define a set of topics that are undesirable in the context of your application. For example, an online banking assistant can be designed to refrain from providing investment advice.\\nContent Filters – You can configure thresholds to filter harmful content across hate, insults, sexual and violence categories.\\nWord Filters (Coming Soon) – You can define a set of words to block in user inputs and FM-generated responses.\\nPII Redaction (Coming Soon) – You can select a set of PII that can be redacted in FM-generated responses. Based on the use case, you can also block a user input if it contains PII.\\n\\n\\n\\n\\n\\n\\nCan I use guardrails with all available FMs and tools on Amazon Bedrock?', metadata={'source': 'https://aws.amazon.com/bedrock/faqs/', 'title': 'Build Generative AI Applications with Foundation Models - Amazon Bedrock FAQs - AWS', 'description': 'Find answers to frequently asked questions about Amazon Bedrock.', 'language': 'en-US', 'start_index': 25748}),\n",
       " Document(page_content='Can I use guardrails with all available FMs and tools on Amazon Bedrock?\\n\\n\\n\\n\\n\\n\\nGuardrails can be used with all large language models available on Amazon Bedrock, including Titan, Anthropic Claude, Meta Llama 2, AI21 Jurassic and Cohere Command FMs. It can also be used with fine-tuned FMs as well as Agents for Amazon Bedrock.\\n\\n\\n\\n\\n\\nDoes AWS offer an intellectual property indemnity covering copyright claims for its generative AI services?', metadata={'source': 'https://aws.amazon.com/bedrock/faqs/', 'title': 'Build Generative AI Applications with Foundation Models - Amazon Bedrock FAQs - AWS', 'description': 'Find answers to frequently asked questions about Amazon Bedrock.', 'language': 'en-US', 'start_index': 26544}),\n",
       " Document(page_content='AWS offers an uncapped intellectual property (IP) indemnity for copyright claims arising from generative output of the following generally available Amazon generative AI services: Amazon Titan models, Amazon CodeWhisperer Professional, and other Services listed in Section 50.10 of the Service Terms (the “Indemnified Generative AI Services”). This means that customers are protected from third-party claims alleging copyright infringement by the output generated by the Indemnified Generative AI Services in response to inputs or other data provided by the customer. Customers must also use the Services responsibly, such as not inputting infringing data or disabling a Service’s filtering features.\\nIn addition, our standard IP indemnity for use of the Services protects customers from third-party claims alleging IP infringement (including copyright claims) by the Services and the data used to train them.\\n\\n\\n\\n\\n\\n\\n\\n\\n\\n\\n\\n\\n\\n\\n\\n\\n\\n\\n\\n\\n\\n\\n\\nHow to get started\\n\\n\\n\\n\\n\\n\\n\\n\\n\\n\\n\\n\\nTutorial', metadata={'source': 'https://aws.amazon.com/bedrock/faqs/', 'title': 'Build Generative AI Applications with Foundation Models - Amazon Bedrock FAQs - AWS', 'description': 'Find answers to frequently asked questions about Amazon Bedrock.', 'language': 'en-US', 'start_index': 26990}),\n",
       " Document(page_content=\"How to get started\\n\\n\\n\\n\\n\\n\\n\\n\\n\\n\\n\\n\\nTutorial\\n\\n\\nExplore common generative AI use cases with Amazon Bedrock Workshop\\n\\nGain hands-on experience\\n\\n\\n\\n\\n\\n\\n\\n\\n\\n\\n\\n\\n\\n\\nVideo\\n\\n\\nGet started with a step-by-step tutorial\\n\\nWatch the video\\n\\n\\n\\n\\n\\n\\n\\n\\n\\n\\n\\n\\n\\n\\n\\n\\n\\n\\n\\n\\n\\n  Sign In to the Console \\n\\n Learn About AWS\\n\\nWhat Is AWS?\\nWhat Is Cloud Computing?\\nAWS Inclusion, Diversity & Equity\\nWhat Is DevOps?\\nWhat Is a Container?\\nWhat Is a Data Lake?\\nWhat is Generative AI?\\nAWS Cloud Security\\nWhat's New\\nBlogs\\nPress Releases\\n\\n\\n\\n Resources for AWS\\n\\nGetting Started\\nTraining and Certification\\nAWS Solutions Library\\nArchitecture Center\\nProduct and Technical FAQs\\nAnalyst Reports\\nAWS Partners\\n\\n\\n\\n Developers on AWS\\n\\nDeveloper Center\\nSDKs & Tools\\n.NET on AWS\\nPython on AWS\\nJava on AWS\\nPHP on AWS\\nJavaScript on AWS\\n\\n\\n\\n Help\\n\\nContact Us\\nGet Expert Help\\nFile a Support Ticket\\nAWS re:Post\\nKnowledge Center\\nAWS Support Overview\\nLegal\\nAWS Careers\\n\\n\\n\\n\\n\\n\\n\\n  Create an AWS Account\", metadata={'source': 'https://aws.amazon.com/bedrock/faqs/', 'title': 'Build Generative AI Applications with Foundation Models - Amazon Bedrock FAQs - AWS', 'description': 'Find answers to frequently asked questions about Amazon Bedrock.', 'language': 'en-US', 'start_index': 27923}),\n",
       " Document(page_content='Help\\n\\nContact Us\\nGet Expert Help\\nFile a Support Ticket\\nAWS re:Post\\nKnowledge Center\\nAWS Support Overview\\nLegal\\nAWS Careers\\n\\n\\n\\n\\n\\n\\n\\n  Create an AWS Account \\n\\n\\n\\n\\n\\n \\n\\n\\n \\n\\n\\n \\n\\n\\n \\n\\n\\n\\n\\n\\n\\n \\n\\n\\n \\n\\n\\n \\n\\n\\n \\n\\n\\n\\n\\n\\n         Amazon is an Equal Opportunity Employer: \\n         Minority / Women / Disability / Veteran / Gender Identity / Sexual Orientation / Age.\\n\\n\\n\\n\\n\\n\\n\\n\\n\\nLanguage\\nعربي\\nBahasa Indonesia\\nDeutsch\\nEnglish\\nEspañol\\nFrançais\\nItaliano\\nPortuguês\\nTiếng Việt\\nTürkçe\\nΡусский\\nไทย\\n日本語\\n한국어\\n中文 (简体)\\n中文 (繁體)\\n\\n\\n\\n\\n\\n\\n\\n\\nPrivacy\\n|\\nSite Terms\\n|\\n Cookie Preferences \\n|\\n© 2023, Amazon Web Services, Inc. or its affiliates. All rights reserved.\\n\\n\\n\\n\\n\\n\\n\\n\\n\\n\\n\\n\\n\\n\\n\\n Ending Support for Internet Explorer\\n Got it \\n\\n\\n       AWS support for Internet Explorer ends on 07/31/2022. Supported browsers are Chrome, Firefox, Edge, and Safari. \\n      Learn more »\\n\\n\\nGot it', metadata={'source': 'https://aws.amazon.com/bedrock/faqs/', 'title': 'Build Generative AI Applications with Foundation Models - Amazon Bedrock FAQs - AWS', 'description': 'Find answers to frequently asked questions about Amazon Bedrock.', 'language': 'en-US', 'start_index': 28697})]"
      ]
     },
     "execution_count": 11,
     "metadata": {},
     "output_type": "execute_result"
    }
   ],
   "source": [
    "all_splits"
   ]
  },
  {
   "cell_type": "markdown",
   "id": "e3d215c5-6182-4f0e-83d9-0bb310995add",
   "metadata": {},
   "source": [
    "## 29k character Bedrock FAQ document has been split into 42 chunks"
   ]
  },
  {
   "cell_type": "code",
   "execution_count": 12,
   "id": "fd65757e-def9-46eb-89d3-eee88ecca557",
   "metadata": {},
   "outputs": [
    {
     "data": {
      "text/plain": [
       "42"
      ]
     },
     "execution_count": 12,
     "metadata": {},
     "output_type": "execute_result"
    }
   ],
   "source": [
    "len(all_splits)"
   ]
  },
  {
   "cell_type": "markdown",
   "id": "120d8c4e-8238-46ad-99d9-3eddcfbd396d",
   "metadata": {},
   "source": [
    "## 20 chunk has 990 characters"
   ]
  },
  {
   "cell_type": "code",
   "execution_count": 13,
   "id": "fa97f2e1-5668-49d8-817d-7af8a3e4a724",
   "metadata": {},
   "outputs": [
    {
     "data": {
      "text/plain": [
       "990"
      ]
     },
     "execution_count": 13,
     "metadata": {},
     "output_type": "execute_result"
    }
   ],
   "source": [
    "len(all_splits[20].page_content)"
   ]
  },
  {
   "cell_type": "code",
   "execution_count": 14,
   "id": "174ef670-0fcc-44e6-b3d0-5ce96e11a52b",
   "metadata": {},
   "outputs": [
    {
     "data": {
      "text/plain": [
       "{'page_content': 'Will AWS and third-party model providers use customer inputs to or outputs from Amazon Bedrock to train Amazon Titan or any third-party models?\\n\\n\\n\\n\\n\\n\\nNo, AWS and the third-party model providers will not use any inputs to or outputs from Bedrock to train Amazon Titan or any third-party models.\\n\\n\\n\\n\\n\\n\\n\\n\\n\\n\\nSDK\\nOpen all\\n\\n\\n\\nWhat SDKs are supported for Amazon Bedrock?\\n\\n\\n\\n\\n\\n\\nAmazon Bedrock supports SDKs for runtime services. iOS and Android SDKs, as well as Java, JS, Python, CLI, .Net, Ruby, PHP, Go, and CPP support both text and speech input.\\n\\n\\n\\n\\n\\nWhat SDKs support streaming functionality?\\n\\n\\n\\n\\n\\n\\nStreaming is supported on all the SDKs.\\n\\n\\n\\n\\n\\n\\n\\n\\n\\n\\nBilling and Support\\nOpen all\\n\\n\\n\\nHow much does Amazon Bedrock cost?\\n\\n\\n\\n\\n\\n\\nPlease see the Amazon Bedrock Pricing Page for current pricing information.\\n\\n\\n\\n\\n\\nWhat support is provided for Amazon Bedrock?\\n\\n\\n\\n\\n\\n\\nDepending on your AWS support contract, Amazon Bedrock is supported under Developer Support, Business Support and Enterprise Support plans.',\n",
       " 'metadata': {'source': 'https://aws.amazon.com/bedrock/faqs/',\n",
       "  'title': 'Build Generative AI Applications with Foundation Models - Amazon Bedrock FAQs - AWS',\n",
       "  'description': 'Find answers to frequently asked questions about Amazon Bedrock.',\n",
       "  'language': 'en-US',\n",
       "  'start_index': 13577},\n",
       " 'type': 'Document'}"
      ]
     },
     "execution_count": 14,
     "metadata": {},
     "output_type": "execute_result"
    }
   ],
   "source": [
    "dict(all_splits[20])"
   ]
  },
  {
   "cell_type": "markdown",
   "id": "ab4e2852-12de-4994-b85b-0f063ae98ab8",
   "metadata": {},
   "source": [
    "## Step3: Convert each chunk using Embedding model into a vector embedding and store in vector database\n",
    "### Embeddings create a vector representation of a piece of text.\n",
    "### Why? User supplied query text can be converted to embedding and used to perform semantic search in vector space"
   ]
  },
  {
   "cell_type": "code",
   "execution_count": 15,
   "id": "51a0f7b4-1b8c-4167-b19f-c7634cf9fbb7",
   "metadata": {},
   "outputs": [
    {
     "name": "stdout",
     "output_type": "stream",
     "text": [
      "CPU times: user 941 ms, sys: 133 ms, total: 1.07 s\n",
      "Wall time: 2.45 s\n"
     ]
    }
   ],
   "source": [
    "%%time\n",
    "vectorstore = Chroma.from_documents(documents=all_splits, embedding=OpenAIEmbeddings())"
   ]
  },
  {
   "cell_type": "code",
   "execution_count": 16,
   "id": "62fb443c-c991-4d86-bf80-8e1aa5fac881",
   "metadata": {},
   "outputs": [
    {
     "data": {
      "text/plain": [
       "langchain.vectorstores.chroma.Chroma"
      ]
     },
     "execution_count": 16,
     "metadata": {},
     "output_type": "execute_result"
    }
   ],
   "source": [
    "type(vectorstore)"
   ]
  },
  {
   "cell_type": "code",
   "execution_count": 17,
   "id": "87031563-8874-4676-86f9-55f820b5bcd8",
   "metadata": {},
   "outputs": [
    {
     "data": {
      "text/plain": [
       "['_Chroma__query_collection',\n",
       " '_LANGCHAIN_DEFAULT_COLLECTION_NAME',\n",
       " '__abstractmethods__',\n",
       " '__annotations__',\n",
       " '__class__',\n",
       " '__delattr__',\n",
       " '__dict__',\n",
       " '__dir__',\n",
       " '__doc__',\n",
       " '__eq__',\n",
       " '__format__',\n",
       " '__ge__',\n",
       " '__getattribute__',\n",
       " '__getstate__',\n",
       " '__gt__',\n",
       " '__hash__',\n",
       " '__init__',\n",
       " '__init_subclass__',\n",
       " '__le__',\n",
       " '__lt__',\n",
       " '__module__',\n",
       " '__ne__',\n",
       " '__new__',\n",
       " '__reduce__',\n",
       " '__reduce_ex__',\n",
       " '__repr__',\n",
       " '__setattr__',\n",
       " '__sizeof__',\n",
       " '__slots__',\n",
       " '__str__',\n",
       " '__subclasshook__',\n",
       " '__weakref__',\n",
       " '_abc_impl',\n",
       " '_asimilarity_search_with_relevance_scores',\n",
       " '_client',\n",
       " '_client_settings',\n",
       " '_collection',\n",
       " '_cosine_relevance_score_fn',\n",
       " '_embedding_function',\n",
       " '_euclidean_relevance_score_fn',\n",
       " '_get_retriever_tags',\n",
       " '_max_inner_product_relevance_score_fn',\n",
       " '_persist_directory',\n",
       " '_select_relevance_score_fn',\n",
       " '_similarity_search_with_relevance_scores',\n",
       " 'aadd_documents',\n",
       " 'aadd_texts',\n",
       " 'add_documents',\n",
       " 'add_texts',\n",
       " 'adelete',\n",
       " 'afrom_documents',\n",
       " 'afrom_texts',\n",
       " 'amax_marginal_relevance_search',\n",
       " 'amax_marginal_relevance_search_by_vector',\n",
       " 'as_retriever',\n",
       " 'asearch',\n",
       " 'asimilarity_search',\n",
       " 'asimilarity_search_by_vector',\n",
       " 'asimilarity_search_with_relevance_scores',\n",
       " 'asimilarity_search_with_score',\n",
       " 'delete',\n",
       " 'delete_collection',\n",
       " 'embeddings',\n",
       " 'from_documents',\n",
       " 'from_texts',\n",
       " 'get',\n",
       " 'max_marginal_relevance_search',\n",
       " 'max_marginal_relevance_search_by_vector',\n",
       " 'override_relevance_score_fn',\n",
       " 'persist',\n",
       " 'search',\n",
       " 'similarity_search',\n",
       " 'similarity_search_by_vector',\n",
       " 'similarity_search_by_vector_with_relevance_scores',\n",
       " 'similarity_search_with_relevance_scores',\n",
       " 'similarity_search_with_score',\n",
       " 'update_document',\n",
       " 'update_documents']"
      ]
     },
     "execution_count": 17,
     "metadata": {},
     "output_type": "execute_result"
    }
   ],
   "source": [
    "dir(vectorstore)"
   ]
  },
  {
   "cell_type": "code",
   "execution_count": 18,
   "id": "113f072b-26ad-44e6-9c65-066da014a613",
   "metadata": {},
   "outputs": [
    {
     "data": {
      "text/plain": [
       "'Run similarity search with Chroma with distance.\\n\\n        Args:\\n            query (str): Query text to search for.\\n            k (int): Number of results to return. Defaults to 4.\\n            filter (Optional[Dict[str, str]]): Filter by metadata. Defaults to None.\\n\\n        Returns:\\n            List[Tuple[Document, float]]: List of documents most similar to\\n            the query text and cosine distance in float for each.\\n            Lower score represents more similarity.\\n        '"
      ]
     },
     "execution_count": 18,
     "metadata": {},
     "output_type": "execute_result"
    }
   ],
   "source": [
    "vectorstore.similarity_search_with_score.__doc__"
   ]
  },
  {
   "cell_type": "code",
   "execution_count": 19,
   "id": "76c5caeb-4d56-45cf-a4d8-a6d074064305",
   "metadata": {},
   "outputs": [
    {
     "data": {
      "text/plain": [
       "[(Document(page_content='Amazon Bedrock offers several capabilities to support security and privacy requirements. Bedrock is in scope for common compliance standards such as Service and Organization Control (SOC), International Organization for Standardization (ISO), Health Insurance Portability and Accountability Act (HIPAA) eligible, and customers can use Bedrock in compliance with the General Data Protection Regulation (GDPR). Amazon Bedrock is included in the scope of the SOC 1, 2, 3 reports, allowing customers to gain insights into our security controls. We demonstrate compliance through extensive third-party audits of our AWS controls. Amazon Bedrock is one of the AWS services under ISO Compliance for the ISO 9001, ISO 27001, ISO 27017, ISO 27018, ISO 27701, ISO 22301, and ISO 20000 standards. Amazon Bedrock is CSA Security Trust Assurance and Risk (STAR) Level 2 certified, which validates the use of best practices and the security posture of AWS cloud offerings. With Amazon Bedrock, your content is not', metadata={'description': 'Find answers to frequently asked questions about Amazon Bedrock.', 'language': 'en-US', 'source': 'https://aws.amazon.com/bedrock/faqs/', 'start_index': 12312, 'title': 'Build Generative AI Applications with Foundation Models - Amazon Bedrock FAQs - AWS'}),\n",
       "  0.3505367338657379),\n",
       " (Document(page_content='Close \\n Claude\\n Command & Embed\\n Jurassic\\n Llama 2\\n Stable Diffusion \\n Titan\\n\\n\\n\\n\\n\\n\\n\\n\\n\\n\\n\\n\\n\\n\\n\\nGenerative AI›\\nAmazon Bedrock›\\nFAQs\\n\\n\\n\\n\\n\\nAmazon Bedrock FAQs\\n\\n\\n\\n\\n\\n\\n\\n\\n\\n\\n\\n\\n\\n\\n\\n\\nPage Topics\\nGeneral \\n            \\n              10 \\n            \\nAgents \\n            \\n              4 \\n            \\nSecurity \\n            \\n              4 \\n            \\nSDK \\n            \\n              2 \\n            \\nBilling and Support \\n            \\n              3 \\n            \\nCustomization \\n            \\n              6 \\n            \\nAmazon Titan \\n            \\n              2 \\n            \\nRetrieval augmented generation (RAG) \\n            \\n              5 \\n            \\nModel Evaluation \\n            \\n              5 \\n            \\nResponsible AI \\n            \\n              4 \\n            \\n\\n\\n\\n\\n\\n\\n\\n\\n             General \\n           \\n\\n\\n\\n\\n\\n\\n\\n\\n\\n\\n\\n\\n\\nGeneral\\nOpen all\\n\\n\\n\\nWhat is Amazon Bedrock?', metadata={'description': 'Find answers to frequently asked questions about Amazon Bedrock.', 'language': 'en-US', 'source': 'https://aws.amazon.com/bedrock/faqs/', 'start_index': 1455, 'title': 'Build Generative AI Applications with Foundation Models - Amazon Bedrock FAQs - AWS'}),\n",
       "  0.35768187046051025),\n",
       " (Document(page_content=\"General\\nOpen all\\n\\n\\n\\nWhat is Amazon Bedrock?\\n\\n\\n\\n\\n\\n\\nAmazon Bedrock is a fully managed service that offers a choice of high-performing foundation models (FMs) along with a broad set of capabilities that you need to build generative AI applications, simplifying development with security, privacy and responsible AI . With Amazon Bedrock’s comprehensive capabilities, you can easily experiment with a variety of top FMs, customize them privately with your data using techniques such as fine tuning and retrieval-augmented generation (RAG), and create managed agents that execute complex business tasks—from booking travel and processing insurance claims to creating ad campaigns and managing inventory—all without writing any code. Since Amazon Bedrock is serverless, you don't have to manage any infrastructure, and you can securely integrate and deploy generative AI capabilities into your applications using the AWS services you are already familiar with.\", metadata={'description': 'Find answers to frequently asked questions about Amazon Bedrock.', 'language': 'en-US', 'source': 'https://aws.amazon.com/bedrock/faqs/', 'start_index': 2276, 'title': 'Build Generative AI Applications with Foundation Models - Amazon Bedrock FAQs - AWS'}),\n",
       "  0.3624812364578247),\n",
       " (Document(page_content='Data security and compliance certifications: Amazon Bedrock offers several capabilities to support security and privacy requirements. Bedrock is in scope for common compliance standards such as Service and Organization Control (SOC), International Organization for Standardization (ISO), Health Insurance Portability and Accountability Act (HIPAA) eligible, and customers can use Bedrock in compliance with the General Data Protection Regulation (GDPR). Amazon Bedrock is CSA Security Trust Assurance and Risk (STAR) Level 2 certified, which validates the use of best practices and the security posture of AWS cloud offerings. With Amazon Bedrock, your content is not used to improve the base models and is not shared with any model providers. Your data in Amazon Bedrock is always encrypted in transit and at rest, and you can optionally encrypt the data using your own keys. You can use AWS PrivateLink with Amazon Bedrock to establish private connectivity between your FMs and your Amazon Virtual', metadata={'description': 'Find answers to frequently asked questions about Amazon Bedrock.', 'language': 'en-US', 'source': 'https://aws.amazon.com/bedrock/faqs/', 'start_index': 5352, 'title': 'Build Generative AI Applications with Foundation Models - Amazon Bedrock FAQs - AWS'}),\n",
       "  0.3744659125804901)]"
      ]
     },
     "execution_count": 19,
     "metadata": {},
     "output_type": "execute_result"
    }
   ],
   "source": [
    "vectorstore.similarity_search_with_score(\"what is bedrock?\")"
   ]
  },
  {
   "cell_type": "code",
   "execution_count": 20,
   "id": "1bf92c20-483b-4d15-b571-7ae20e39fd33",
   "metadata": {},
   "outputs": [
    {
     "data": {
      "text/plain": [
       "'Return docs and relevance scores in the range [0, 1].\\n\\n        0 is dissimilar, 1 is most similar.\\n\\n        Args:\\n            query: input text\\n            k: Number of Documents to return. Defaults to 4.\\n            **kwargs: kwargs to be passed to similarity search. Should include:\\n                score_threshold: Optional, a floating point value between 0 to 1 to\\n                    filter the resulting set of retrieved docs\\n\\n        Returns:\\n            List of Tuples of (doc, similarity_score)\\n        '"
      ]
     },
     "execution_count": 20,
     "metadata": {},
     "output_type": "execute_result"
    }
   ],
   "source": [
    "vectorstore.similarity_search_with_relevance_scores.__doc__"
   ]
  },
  {
   "cell_type": "code",
   "execution_count": 21,
   "id": "b1e88f27-62ec-496b-8db9-a19f9c06ea36",
   "metadata": {},
   "outputs": [
    {
     "data": {
      "text/plain": [
       "[(Document(page_content='Amazon Bedrock offers several capabilities to support security and privacy requirements. Bedrock is in scope for common compliance standards such as Service and Organization Control (SOC), International Organization for Standardization (ISO), Health Insurance Portability and Accountability Act (HIPAA) eligible, and customers can use Bedrock in compliance with the General Data Protection Regulation (GDPR). Amazon Bedrock is included in the scope of the SOC 1, 2, 3 reports, allowing customers to gain insights into our security controls. We demonstrate compliance through extensive third-party audits of our AWS controls. Amazon Bedrock is one of the AWS services under ISO Compliance for the ISO 9001, ISO 27001, ISO 27017, ISO 27018, ISO 27701, ISO 22301, and ISO 20000 standards. Amazon Bedrock is CSA Security Trust Assurance and Risk (STAR) Level 2 certified, which validates the use of best practices and the security posture of AWS cloud offerings. With Amazon Bedrock, your content is not', metadata={'description': 'Find answers to frequently asked questions about Amazon Bedrock.', 'language': 'en-US', 'source': 'https://aws.amazon.com/bedrock/faqs/', 'start_index': 12312, 'title': 'Build Generative AI Applications with Foundation Models - Amazon Bedrock FAQs - AWS'}),\n",
       "  0.7521330984285526),\n",
       " (Document(page_content='Close \\n Claude\\n Command & Embed\\n Jurassic\\n Llama 2\\n Stable Diffusion \\n Titan\\n\\n\\n\\n\\n\\n\\n\\n\\n\\n\\n\\n\\n\\n\\n\\nGenerative AI›\\nAmazon Bedrock›\\nFAQs\\n\\n\\n\\n\\n\\nAmazon Bedrock FAQs\\n\\n\\n\\n\\n\\n\\n\\n\\n\\n\\n\\n\\n\\n\\n\\n\\nPage Topics\\nGeneral \\n            \\n              10 \\n            \\nAgents \\n            \\n              4 \\n            \\nSecurity \\n            \\n              4 \\n            \\nSDK \\n            \\n              2 \\n            \\nBilling and Support \\n            \\n              3 \\n            \\nCustomization \\n            \\n              6 \\n            \\nAmazon Titan \\n            \\n              2 \\n            \\nRetrieval augmented generation (RAG) \\n            \\n              5 \\n            \\nModel Evaluation \\n            \\n              5 \\n            \\nResponsible AI \\n            \\n              4 \\n            \\n\\n\\n\\n\\n\\n\\n\\n\\n             General \\n           \\n\\n\\n\\n\\n\\n\\n\\n\\n\\n\\n\\n\\n\\nGeneral\\nOpen all\\n\\n\\n\\nWhat is Amazon Bedrock?', metadata={'description': 'Find answers to frequently asked questions about Amazon Bedrock.', 'language': 'en-US', 'source': 'https://aws.amazon.com/bedrock/faqs/', 'start_index': 1455, 'title': 'Build Generative AI Applications with Foundation Models - Amazon Bedrock FAQs - AWS'}),\n",
       "  0.7470807238898849),\n",
       " (Document(page_content=\"General\\nOpen all\\n\\n\\n\\nWhat is Amazon Bedrock?\\n\\n\\n\\n\\n\\n\\nAmazon Bedrock is a fully managed service that offers a choice of high-performing foundation models (FMs) along with a broad set of capabilities that you need to build generative AI applications, simplifying development with security, privacy and responsible AI . With Amazon Bedrock’s comprehensive capabilities, you can easily experiment with a variety of top FMs, customize them privately with your data using techniques such as fine tuning and retrieval-augmented generation (RAG), and create managed agents that execute complex business tasks—from booking travel and processing insurance claims to creating ad campaigns and managing inventory—all without writing any code. Since Amazon Bedrock is serverless, you don't have to manage any infrastructure, and you can securely integrate and deploy generative AI capabilities into your applications using the AWS services you are already familiar with.\", metadata={'description': 'Find answers to frequently asked questions about Amazon Bedrock.', 'language': 'en-US', 'source': 'https://aws.amazon.com/bedrock/faqs/', 'start_index': 2276, 'title': 'Build Generative AI Applications with Foundation Models - Amazon Bedrock FAQs - AWS'}),\n",
       "  0.7436870596477878),\n",
       " (Document(page_content='Data security and compliance certifications: Amazon Bedrock offers several capabilities to support security and privacy requirements. Bedrock is in scope for common compliance standards such as Service and Organization Control (SOC), International Organization for Standardization (ISO), Health Insurance Portability and Accountability Act (HIPAA) eligible, and customers can use Bedrock in compliance with the General Data Protection Regulation (GDPR). Amazon Bedrock is CSA Security Trust Assurance and Risk (STAR) Level 2 certified, which validates the use of best practices and the security posture of AWS cloud offerings. With Amazon Bedrock, your content is not used to improve the base models and is not shared with any model providers. Your data in Amazon Bedrock is always encrypted in transit and at rest, and you can optionally encrypt the data using your own keys. You can use AWS PrivateLink with Amazon Bedrock to establish private connectivity between your FMs and your Amazon Virtual', metadata={'description': 'Find answers to frequently asked questions about Amazon Bedrock.', 'language': 'en-US', 'source': 'https://aws.amazon.com/bedrock/faqs/', 'start_index': 5352, 'title': 'Build Generative AI Applications with Foundation Models - Amazon Bedrock FAQs - AWS'}),\n",
       "  0.7352126138911266)]"
      ]
     },
     "execution_count": 21,
     "metadata": {},
     "output_type": "execute_result"
    }
   ],
   "source": [
    "vectorstore.similarity_search_with_relevance_scores(\"what is bedrock?\")"
   ]
  },
  {
   "cell_type": "markdown",
   "id": "ce1ee100-d9cf-415a-926a-a70dc55edd6e",
   "metadata": {},
   "source": [
    "## Step4: Retriever uses the user_input to perform semantic search on vector store to retrieve relevant chunks"
   ]
  },
  {
   "cell_type": "code",
   "execution_count": 22,
   "id": "fe02073f-8401-47d6-9c76-79260f10ffc4",
   "metadata": {},
   "outputs": [
    {
     "name": "stdout",
     "output_type": "stream",
     "text": [
      "CPU times: user 8.54 ms, sys: 2.56 ms, total: 11.1 ms\n",
      "Wall time: 131 ms\n"
     ]
    }
   ],
   "source": [
    "%%time\n",
    "retriever = vectorstore.as_retriever(search_type=\"similarity\", search_kwargs={\"k\": 5})\n",
    "retrieved_docs = retriever.get_relevant_documents(\n",
    "    \"What is bedrock?\"\n",
    ")"
   ]
  },
  {
   "cell_type": "code",
   "execution_count": 23,
   "id": "dc48aeec-d956-47eb-8272-ea7b407e8bde",
   "metadata": {},
   "outputs": [
    {
     "data": {
      "text/plain": [
       "5"
      ]
     },
     "execution_count": 23,
     "metadata": {},
     "output_type": "execute_result"
    }
   ],
   "source": [
    "len(retrieved_docs)"
   ]
  },
  {
   "cell_type": "code",
   "execution_count": 24,
   "id": "9b5755cd-283a-4376-940e-c913a7458fd0",
   "metadata": {},
   "outputs": [
    {
     "name": "stdout",
     "output_type": "stream",
     "text": [
      "Amazon Bedrock offers several capabilities to support security and privacy requirements. Bedrock is in scope for common compliance standards such as Service and Organization Control (SOC), International Organization for Standardization (ISO), Health Insurance Portability and Accountability Act (HIPAA) eligible, and customers can use Bedrock in compliance with the General Data Protection Regulation (GDPR). Amazon Bedrock is included in the scope of the SOC 1, 2, 3 reports, allowing customers to gain insights into our security controls. We demonstrate compliance through extensive third-party audits of our AWS controls. Amazon Bedrock is one of the AWS services under ISO Compliance for the ISO 9001, ISO 27001, ISO 27017, ISO 27018, ISO 27701, ISO 22301, and ISO 20000 standards. Amazon Bedrock is CSA Security Trust Assurance and Risk (STAR) Level 2 certified, which validates the use of best practices and the security posture of AWS cloud offerings. With Amazon Bedrock, your content is not\n"
     ]
    }
   ],
   "source": [
    "print(retrieved_docs[2].page_content)"
   ]
  },
  {
   "cell_type": "markdown",
   "id": "c0b720e1-9a57-4c7f-a862-22e8b31cc49d",
   "metadata": {},
   "source": [
    "## Step 5: Generate "
   ]
  },
  {
   "cell_type": "code",
   "execution_count": 25,
   "id": "98d38373-4565-462e-a95e-e3a149610aba",
   "metadata": {},
   "outputs": [
    {
     "name": "stdout",
     "output_type": "stream",
     "text": [
      "CPU times: user 2.67 ms, sys: 1.97 ms, total: 4.64 ms\n",
      "Wall time: 7.7 ms\n"
     ]
    }
   ],
   "source": [
    "%%time\n",
    "llm = ChatOpenAI(model_name=\"gpt-3.5-turbo\", temperature=0)\n",
    "\n",
    "template = \"\"\"Use the following pieces of context to answer the question at the end.\n",
    "If you don't know the answer, just say that you don't know, don't try to make up an answer.\n",
    "Use three sentences maximum and keep the answer as concise as possible.\n",
    "Always say \"thanks for asking!\" at the end of the answer.\n",
    "{context}\n",
    "Question: {question}\n",
    "Helpful Answer:\"\"\"\n",
    "rag_prompt_custom = PromptTemplate.from_template(template)\n",
    "\n",
    "rag_chain = (\n",
    "    {\"context\": retriever, \"question\": RunnablePassthrough()}\n",
    "    | rag_prompt_custom\n",
    "    | llm\n",
    "    | StrOutputParser()\n",
    ")"
   ]
  },
  {
   "cell_type": "markdown",
   "id": "1cfb989e-e0cf-4aa4-b48d-d060a9a0d792",
   "metadata": {},
   "source": [
    "## User Input to generate"
   ]
  },
  {
   "cell_type": "code",
   "execution_count": 26,
   "id": "16dffdef-766b-47df-9639-f914df479cd6",
   "metadata": {},
   "outputs": [
    {
     "name": "stdout",
     "output_type": "stream",
     "text": [
      "CPU times: user 44.5 ms, sys: 5.49 ms, total: 50 ms\n",
      "Wall time: 2.12 s\n"
     ]
    },
    {
     "data": {
      "text/plain": [
       "'Amazon Bedrock is a fully managed service that offers a choice of high-performing foundation models (FMs) along with a broad set of capabilities to build generative AI applications without writing any code. It simplifies development with security, privacy, and responsible AI. Thanks for asking!'"
      ]
     },
     "execution_count": 26,
     "metadata": {},
     "output_type": "execute_result"
    }
   ],
   "source": [
    "%%time\n",
    "rag_chain.invoke(\"What is bedrock?\")"
   ]
  },
  {
   "cell_type": "code",
   "execution_count": 27,
   "id": "420b99ad-bd4b-409c-ae37-c45d8df49221",
   "metadata": {},
   "outputs": [
    {
     "name": "stdout",
     "output_type": "stream",
     "text": [
      "CPU times: user 48.8 ms, sys: 6.97 ms, total: 55.8 ms\n",
      "Wall time: 7.26 s\n"
     ]
    },
    {
     "data": {
      "text/plain": [
       "\"The foundation models available in Bedrock include Anthropic's Claude, AI21 Labs' Jurassic-2, Stability AI's Stable Diffusion, Cohere's Command and Embed, Meta's Llama 2, and the Amazon Titan language and embeddings models. Thanks for asking!\""
      ]
     },
     "execution_count": 27,
     "metadata": {},
     "output_type": "execute_result"
    }
   ],
   "source": [
    "%%time\n",
    "rag_chain.invoke(\"what foundation models are available in Bedrock?\")"
   ]
  },
  {
   "cell_type": "code",
   "execution_count": 28,
   "id": "ae3fb79f-76af-4f34-bd71-258c098fc88a",
   "metadata": {},
   "outputs": [
    {
     "name": "stdout",
     "output_type": "stream",
     "text": [
      "CPU times: user 72.1 ms, sys: 7.38 ms, total: 79.4 ms\n",
      "Wall time: 1.98 s\n"
     ]
    },
    {
     "data": {
      "text/plain": [
       "'A foundation model is a high-performing AI model that serves as the basis for building generative AI applications. It can be customized with your own data and offers a range of options from different providers. Thanks for asking!'"
      ]
     },
     "execution_count": 28,
     "metadata": {},
     "output_type": "execute_result"
    }
   ],
   "source": [
    "%%time\n",
    "rag_chain.invoke(\"what is a foundation model?\")"
   ]
  },
  {
   "cell_type": "code",
   "execution_count": 29,
   "id": "d0af5c5e-c0ef-448b-b41c-85e2531ce5f3",
   "metadata": {},
   "outputs": [
    {
     "name": "stdout",
     "output_type": "stream",
     "text": [
      "CPU times: user 51 ms, sys: 7.18 ms, total: 58.2 ms\n",
      "Wall time: 2.07 s\n"
     ]
    },
    {
     "data": {
      "text/plain": [
       "'You can customize a foundation model with your own data on Amazon Bedrock by using a visual interface without writing any code. Simply select your training and validation datasets stored in Amazon S3 and adjust the hyperparameters if needed. Thanks for asking!'"
      ]
     },
     "execution_count": 29,
     "metadata": {},
     "output_type": "execute_result"
    }
   ],
   "source": [
    "%%time\n",
    "rag_chain.invoke(\"how can I customize a foundation model with my own data?\")"
   ]
  },
  {
   "cell_type": "code",
   "execution_count": 30,
   "id": "34f49f95-2810-44d6-812b-f857d4d2ba82",
   "metadata": {},
   "outputs": [
    {
     "name": "stdout",
     "output_type": "stream",
     "text": [
      "CPU times: user 45.7 ms, sys: 5.89 ms, total: 51.6 ms\n",
      "Wall time: 1.84 s\n"
     ]
    },
    {
     "data": {
      "text/plain": [
       "'A hyperparameter is a parameter that is set before the learning process begins and determines the behavior and performance of a machine learning model. It is not learned from the data but is chosen by the user. Thanks for asking!'"
      ]
     },
     "execution_count": 30,
     "metadata": {},
     "output_type": "execute_result"
    }
   ],
   "source": [
    "%%time\n",
    "rag_chain.invoke(\"what is a hyperparameter?\")"
   ]
  },
  {
   "cell_type": "code",
   "execution_count": 31,
   "id": "f098457b-1d22-4bcb-87ba-cc4f55e1a8d4",
   "metadata": {},
   "outputs": [
    {
     "name": "stdout",
     "output_type": "stream",
     "text": [
      "CPU times: user 50.1 ms, sys: 6.79 ms, total: 56.9 ms\n",
      "Wall time: 1.72 s\n"
     ]
    },
    {
     "data": {
      "text/plain": [
       "'An example of a hyperparameter is the learning rate in a neural network. The learning rate determines how quickly the model adjusts its weights during training. Thanks for asking!'"
      ]
     },
     "execution_count": 31,
     "metadata": {},
     "output_type": "execute_result"
    }
   ],
   "source": [
    "%%time\n",
    "rag_chain.invoke(\"give me example of hyperparameter\")"
   ]
  },
  {
   "cell_type": "code",
   "execution_count": 32,
   "id": "39f6355c-e2e8-4003-b023-aa6b763ab279",
   "metadata": {},
   "outputs": [
    {
     "name": "stdout",
     "output_type": "stream",
     "text": [
      "CPU times: user 49.1 ms, sys: 6.14 ms, total: 55.2 ms\n",
      "Wall time: 1.15 s\n"
     ]
    },
    {
     "data": {
      "text/plain": [
       "'RAG stands for Retrieval Augmented Generation. Thanks for asking!'"
      ]
     },
     "execution_count": 32,
     "metadata": {},
     "output_type": "execute_result"
    }
   ],
   "source": [
    "%%time\n",
    "rag_chain.invoke(\"What is a RAG?\")"
   ]
  },
  {
   "cell_type": "code",
   "execution_count": 33,
   "id": "d60c79c9-ff94-4862-9319-2e3aa625a285",
   "metadata": {},
   "outputs": [
    {
     "name": "stdout",
     "output_type": "stream",
     "text": [
      "CPU times: user 48.8 ms, sys: 6.68 ms, total: 55.5 ms\n",
      "Wall time: 2.17 s\n"
     ]
    },
    {
     "data": {
      "text/plain": [
       "'Yes, Amazon Bedrock allows users to set up human review workflows to evaluate models. Users can customize the instructions and buttons on the evaluation UI for their team and provide detailed instructions with examples. This method is useful for evaluating subjective criteria that require human judgment or subject matter expertise. Thanks for asking!'"
      ]
     },
     "execution_count": 33,
     "metadata": {},
     "output_type": "execute_result"
    }
   ],
   "source": [
    "%%time\n",
    "rag_chain.invoke(\"Can you expand on it?\")"
   ]
  },
  {
   "cell_type": "code",
   "execution_count": 34,
   "id": "e6445870-641f-4612-a0d4-8ce73e623e36",
   "metadata": {},
   "outputs": [
    {
     "name": "stdout",
     "output_type": "stream",
     "text": [
      "CPU times: user 73.8 ms, sys: 6.99 ms, total: 80.7 ms\n",
      "Wall time: 3.75 s\n"
     ]
    },
    {
     "data": {
      "text/plain": [
       "\"To build a RAG (Retrieval Augmented Generation) application, you can use Amazon Bedrock's fully managed agents that can invoke APIs dynamically to execute tasks. These agents extend the reasoning capabilities of FMs (Foundation Models) to break down tasks, create an orchestration plan, and execute it. Additionally, you can use Knowledge Bases for Amazon Bedrock to securely connect FMs to your data sources for retrieval augmentation, making the FM more knowledgeable about your specific domain and organization. Thanks for asking!\""
      ]
     },
     "execution_count": 34,
     "metadata": {},
     "output_type": "execute_result"
    }
   ],
   "source": [
    "%%time\n",
    "rag_chain.invoke(\"How do you build a RAG application?\")"
   ]
  },
  {
   "cell_type": "code",
   "execution_count": 35,
   "id": "53f74403-cfce-407a-9036-973b6622e0e4",
   "metadata": {},
   "outputs": [
    {
     "name": "stdout",
     "output_type": "stream",
     "text": [
      "CPU times: user 48.4 ms, sys: 6.4 ms, total: 54.7 ms\n",
      "Wall time: 2.67 s\n"
     ]
    },
    {
     "data": {
      "text/plain": [
       "'Knowledge Bases for Amazon Bedrock is a feature that takes care of the entire ingestion workflow of converting documents into embeddings (vectors) and storing them in a specialized vector database. It supports popular vector databases such as Amazon OpenSearch Serverless, Pinecone, Redis Enterprise Cloud, Amazon Aurora, and MongoDB. Thanks for asking!'"
      ]
     },
     "execution_count": 35,
     "metadata": {},
     "output_type": "execute_result"
    }
   ],
   "source": [
    "%%time\n",
    "rag_chain.invoke(\"what are knowledge bases for amazon bedrock?\")"
   ]
  },
  {
   "cell_type": "code",
   "execution_count": 36,
   "id": "e2155326-626f-4505-8c11-14237b7deac0",
   "metadata": {},
   "outputs": [
    {
     "name": "stdout",
     "output_type": "stream",
     "text": [
      "CPU times: user 47.8 ms, sys: 6.65 ms, total: 54.5 ms\n",
      "Wall time: 1.09 s\n"
     ]
    },
    {
     "data": {
      "text/plain": [
       "'Embeddings are vector representations of documents that capture their semantic meaning. Thanks for asking!'"
      ]
     },
     "execution_count": 36,
     "metadata": {},
     "output_type": "execute_result"
    }
   ],
   "source": [
    "%%time\n",
    "rag_chain.invoke(\"What are embeddings?\")"
   ]
  },
  {
   "cell_type": "code",
   "execution_count": null,
   "id": "bd6815c9-bba3-457b-bef2-d38857a74d1d",
   "metadata": {},
   "outputs": [],
   "source": []
  }
 ],
 "metadata": {
  "kernelspec": {
   "display_name": "Python 3 (ipykernel)",
   "language": "python",
   "name": "python3"
  },
  "language_info": {
   "codemirror_mode": {
    "name": "ipython",
    "version": 3
   },
   "file_extension": ".py",
   "mimetype": "text/x-python",
   "name": "python",
   "nbconvert_exporter": "python",
   "pygments_lexer": "ipython3",
   "version": "3.11.6"
  }
 },
 "nbformat": 4,
 "nbformat_minor": 5
}
